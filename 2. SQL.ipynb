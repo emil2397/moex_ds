{
 "cells": [
  {
   "cell_type": "markdown",
   "metadata": {},
   "source": [
    "## Задание №3\n",
    "К сожалению, исполнение написанных команд не удастся показать в этом ноутбуке. Видимо в sqlite3 есть некоторые ограниченния, которые не позволяют в полную меру использовать синтаксис SQL. Все команды зафиксированы, ниже. Для работы с данными можно создать таблицу через create table, либо воспользоваться временной. Рекомендую проверить исполнение команд в SQL Server Management Studio, выполнял данную работу в указанной среде. "
   ]
  },
  {
   "cell_type": "code",
   "execution_count": null,
   "metadata": {},
   "outputs": [],
   "source": [
    "import sqlite3"
   ]
  },
  {
   "cell_type": "code",
   "execution_count": 42,
   "metadata": {},
   "outputs": [],
   "source": [
    "conn = sqlite3.connect(\"mydatabase.db\") \n",
    "coursor = conn.cursor()"
   ]
  },
  {
   "cell_type": "code",
   "execution_count": 43,
   "metadata": {},
   "outputs": [],
   "source": [
    "coursor.execute(\"\"\"\n",
    "CREATE TABLE EMPS\n",
    "(name, pasp, dt1, dt2)\n",
    "\"\"\")\n",
    "conn.commit()\n"
   ]
  },
  {
   "cell_type": "code",
   "execution_count": 44,
   "metadata": {},
   "outputs": [],
   "source": [
    "coursor.execute(\"\"\"\n",
    "CREATE TABLE JOBS\n",
    "(name, department, employer, dt1, dt2)\n",
    "\"\"\")\n",
    "conn.commit()"
   ]
  },
  {
   "cell_type": "code",
   "execution_count": 45,
   "metadata": {},
   "outputs": [],
   "source": [
    "emps_data = [\n",
    "            ('ВАСЯ', '4500', '2019-01-01', 'null'),\n",
    "            ('ВАСЯ2', '4501', '2019-01-05', 'null'),\n",
    "            ('ВАСЯ3', '4502', '2019-01-01', '2019-08-01'),\n",
    "            ('ВАСЯ4', '4503', '2019-01-05', 'null'), \n",
    "            ('ВАСЯ4', '4503', '2019-01-05', 'null'), \n",
    "            ('ВАСЯ55', '4504', '2019-01-09', 'null')\n",
    "            ]\n",
    "jobs_data = [\n",
    "            ('ВАСЯ', 'finance', 'Yandex', '2018-06-01','2018-08-02'),\n",
    "            ('ВАСЯ', 'hr', 'Moscow exchange', '2017-06-01','2017-08-01'),\n",
    "            ('ВАСЯ2', 'finance', 'Rambler', '2018-05-04','2018-08-01'),\n",
    "            ('ВАСЯ3', 'hr', 'Rambler', '2018-01-04','2018-08-23'),\n",
    "            ('ВАСЯ4', 'it', 'Alfa bank', '2018-01-05', '2018-07-01'),\n",
    "            ('ВАСЯ4', 'hr', 'Rambler', '2018-01-05', '2018-07-01'),\n",
    "            ('ВАСЯ4', 'it', 'Alfa bank', '2018-01-05', '2018-07-01'),\n",
    "            ('ВАСЯ4', 'it', 'Rambler', '2018-01-05', '2018-07-01'),\n",
    "            ('ВАСЯ5', 'strategy', 'Alfa bank', '2018-01-03', '2018-07-02')\n",
    "]"
   ]
  },
  {
   "cell_type": "code",
   "execution_count": 46,
   "metadata": {},
   "outputs": [],
   "source": [
    "coursor.executemany(\"INSERT INTO EMPS VALUES (?,?,?,?)\", emps_data)\n",
    "conn.commit()"
   ]
  },
  {
   "cell_type": "code",
   "execution_count": 47,
   "metadata": {},
   "outputs": [],
   "source": [
    "coursor.executemany(\"INSERT INTO JOBS VALUES (?,?,?,?,?)\", jobs_data)\n",
    "conn.commit()"
   ]
  },
  {
   "cell_type": "code",
   "execution_count": 55,
   "metadata": {},
   "outputs": [],
   "source": [
    "# зад 1 пункт 1 версия запроса 1\n",
    "SQL_l_1_ver1 = \"\"\"\n",
    "select COUNT ( distinct e.name ) from EMPS e\n",
    "left join JOBS j on j.name=e.name\n",
    "where e.dt2 is NULL and j.name is null\n",
    "\"\"\"\n",
    "# зад 1 пункт 1 версия запроса 2\n",
    "SQL_l_1_ver2 = \"\"\"\n",
    "select COUNT (distinct e.name ) from EMPS e\n",
    "left join JOBS j on j.name=e.name\n",
    "where e.dt2 is NULL and j.name is not null\n",
    "\"\"\"\n",
    "# зад 1 пункт 2\n",
    "\n",
    "SQL_1_2 = \"\"\"\n",
    "select pr, COUNT ( distinct name ) from\n",
    "(\n",
    "select e.name, pr=case when j.name is null then 0 else 1 end from EMPS e\n",
    "left join JOBS j on j.name=e.name\n",
    "where e.dt2 is NULL\n",
    ") w\n",
    "group by pr\n",
    "\"\"\"\n"
   ]
  },
  {
   "cell_type": "code",
   "execution_count": 56,
   "metadata": {},
   "outputs": [
    {
     "ename": "SyntaxError",
     "evalue": "EOL while scanning string literal (<ipython-input-56-810dc2df770e>, line 28)",
     "output_type": "error",
     "traceback": [
      "\u001b[0;36m  File \u001b[0;32m\"<ipython-input-56-810dc2df770e>\"\u001b[0;36m, line \u001b[0;32m28\u001b[0m\n\u001b[0;31m    \"\"\"\"\u001b[0m\n\u001b[0m        \n^\u001b[0m\n\u001b[0;31mSyntaxError\u001b[0m\u001b[0;31m:\u001b[0m EOL while scanning string literal\n"
     ]
    }
   ],
   "source": [
    "# зад 2 пункт 1\n",
    "# количество мест работы по сотрудникам\n",
    "SQL_2_1=\"\"\"\n",
    "select distinct e.name, count ( distinct (employer)) from EMPS e\n",
    "left join JOBS j on j.name=e.name\n",
    "where e.dt2 is NULL and j.name is not null\n",
    "group by e.name\n",
    "\"\"\"\n",
    "\n",
    "# зад 2 пункт 2\n",
    "# количество отделов, в которых работал сотрудник\n",
    "SQL_2_2=\"\"\"\n",
    "select distinct e.name, count ( distinct concat (employer,department)) from EMPS e\n",
    "left join JOBS j on j.name=e.name\n",
    "where e.dt2 is NULL and j.name is not null\n",
    "group by e.name\n",
    "\"\"\"\n",
    "\n",
    "# зад 2 пункт 3\n",
    "# общий трудовой стаж на предыдущих местах работы. Выведете результат по убыванию трудового стажа\n",
    "SQL_2_3=\"\"\"\n",
    "select distinct name, [Трудовой стаж]=SUM (ps) from\n",
    "(select distinct e.name, employer,ps=DATEDIFF ( DAY , j.dt1 , j.dt2) from EMPS e\n",
    "left join JOBS j on j.name=e.name\n",
    "where e.dt2 is NULL and j.name is not null ) q\n",
    "group by name\n",
    "order by 2 DESC\n",
    "\"\"\"\""
   ]
  },
  {
   "cell_type": "code",
   "execution_count": null,
   "metadata": {},
   "outputs": [],
   "source": [
    "# зад 3 пункт 1\n",
    "# покажите самого популярного работодателя\n",
    "sql_3_1=\"\"\"\n",
    "select top 1 *from\n",
    "(\n",
    "select lm=count(distinct e.name), employer from EMPS e\n",
    "left join JOBS j on j.name=e.name\n",
    "where j.name is not null\n",
    "group by employer\n",
    ")l\n",
    "order by 1 DESC\n",
    "\"\"\"\n",
    "\n",
    "# зад 3 пункт 2\n",
    "# покажите самую востребованную специальность\n",
    "sql_3_2=\"\"\"\n",
    "select top 1 *from\n",
    "(\n",
    "select pn=count(distinct e.name), department from EMPS e\n",
    "left join JOBS j on j.name=e.name\n",
    "where j.name is not null\n",
    "group by department\n",
    ")n\n",
    "order by 1 DESC\n",
    "\"\"\""
   ]
  },
  {
   "cell_type": "markdown",
   "metadata": {},
   "source": []
  },
  {
   "cell_type": "code",
   "execution_count": null,
   "metadata": {},
   "outputs": [],
   "source": []
  }
 ],
 "metadata": {
  "kernelspec": {
   "display_name": "Python 3",
   "language": "python",
   "name": "python3"
  },
  "language_info": {
   "codemirror_mode": {
    "name": "ipython",
    "version": 3
   },
   "file_extension": ".py",
   "mimetype": "text/x-python",
   "name": "python",
   "nbconvert_exporter": "python",
   "pygments_lexer": "ipython3",
   "version": "3.7.3"
  }
 },
 "nbformat": 4,
 "nbformat_minor": 2
}
