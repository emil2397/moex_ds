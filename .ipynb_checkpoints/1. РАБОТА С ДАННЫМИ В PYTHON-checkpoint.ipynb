{
 "cells": [
  {
   "cell_type": "markdown",
   "metadata": {},
   "source": [
    "## Data upload\n",
    "We have 270 available ticket names, you can choose any from the list. The file goes with the zip."
   ]
  },
  {
   "cell_type": "code",
   "execution_count": 434,
   "metadata": {},
   "outputs": [],
   "source": [
    "from __future__ import division\n",
    "import datetime as dt\n",
    "import matplotlib.pyplot as plt\n",
    "from matplotlib import style\n",
    "import pandas as pd\n",
    "import pandas_datareader.data as web\n",
    "from datetime import datetime\n",
    "import plotly.graph_objects as go\n",
    "from datetime import datetime\n",
    "import numpy as np\n",
    "\n",
    "\n",
    "av_stock_tickets = pd.read_csv(\"tickets.csv\", header=1)\n",
    "\n",
    "def choose_stock_numb(numb):\n",
    "    return av_stock_tickets.iloc[numb][\"ISIN\"]\n",
    "\n",
    "def get_data_request(start, end, engines, markets, boards, sec_name):\n",
    "        try:\n",
    "            if end == 0:\n",
    "                end = datetime.today().strftime('%Y-%m-%d')\n",
    "            request=\"http://iss.moex.com/iss/history/engines/\"+str(engines)+\"/markets/\"+str(markets)+\"/boards/\"+str(boards)+\"/securities/\"+str(sec_name)+\"/candles.json?from=\"+str(start)+\"&till=\"+str(end)+\"&interval=24&start=0\"\n",
    "            if request == None:\n",
    "                return(\"There is no data\")\n",
    "            df=pd.read_json(request)\n",
    "            data=pd.DataFrame(df['history']['data'])\n",
    "            columns = [\"BOARDID\", \"TRADEDATE\", \"SHORTNAME\", \"SECID\", \"NUMTRADES\", \"VALUE\", \"OPEN\", \"LOW\", \"HIGH\", \"LEGALCLOSEPRICE\", \"WAPRICE\", \"CLOSE\", \"VOLUME\", \"MARKETPRICE2\", \"MARKETPRICE3\", \"ADMITTEDQUOTE\", \"MP2VALTRD\", \"MARKETPRICE3TRADESVALUE\", \"ADMITTEDVALUE\", \"WAVAL\"]\n",
    "            data.columns=columns\n",
    "            return data\n",
    "        except ValueError:\n",
    "            print(\"Oops! There is no data. Try again...\")\n",
    "            \n",
    "def plot_low_high(data):\n",
    "    if data is None:\n",
    "        return(\"Oops! There is no data. Try again...\")\n",
    "    else:\n",
    "        fig = plt.figure(figsize=(7, 5))\n",
    "        plt.title('Low-High graph')\n",
    "        plt.plot(data['LOW'], label=\"Low\")\n",
    "        plt.ylabel('Price Low-High')\n",
    "        plt.xlabel('Date')\n",
    "        plt.plot(data['HIGH'], label=\"High\")\n",
    "        plt.legend(bbox_to_anchor=(1.05, 1), loc='upper left', borderaxespad=0.)\n",
    "        plt.show()\n",
    "   \n",
    "def plot_open_close(data):\n",
    "    if data is None:\n",
    "        return(\"Oops! There is no data. Try again...\")\n",
    "    else:\n",
    "        fig = plt.figure(figsize=(7, 5))\n",
    "        plt.title('Open-Close graph')\n",
    "        plt.ylabel('Price Low-High')\n",
    "        plt.xlabel('Date')\n",
    "        plt.plot(data['OPEN'], label=\"Open\")\n",
    "        plt.plot(data['LEGALCLOSEPRICE'], label=\"Close\")\n",
    "        plt.legend(bbox_to_anchor=(1.05, 1), loc='upper left', borderaxespad=0.)\n",
    "        plt.show()   \n",
    "\n",
    "def plot_mov_av(data, window, vol):\n",
    "    data['sma'] = data['LEGALCLOSEPRICE'].rolling(window=window, min_periods=0).mean() \n",
    "    fig = plt.figure(figsize=(7, 5))\n",
    "    plt.title('Mov Av graph '+str(window))\n",
    "    plt.rcParams['ytick.right'] = plt.rcParams['ytick.labelright'] = True\n",
    "    plt.rcParams['ytick.left'] = plt.rcParams['ytick.labelleft'] = False\n",
    "    plt.plot(data.index, data['LEGALCLOSEPRICE']) \n",
    "    plt.plot(data.index, data['sma']) \n",
    "    if vol == 1:\n",
    "        fig = plt.figure(figsize=(7, 1))\n",
    "        data[\"VOLUME\"].plot.bar()\n",
    "        plt.gca().axes.get_xaxis().set_visible(False)\n",
    "        plt.gca().axes.get_yaxis().set_visible(False)\n",
    "        plt.show()\n",
    "\n",
    "def plot_candle(data):\n",
    "    df = data[[\"TRADEDATE\",\"OPEN\",\"HIGH\",\"LEGALCLOSEPRICE\",\"LOW\"]]\n",
    "    fig = go.Figure(data=[go.Candlestick(x=df[\"TRADEDATE\"],\n",
    "                    open=df[\"OPEN\"],\n",
    "                    high=df[\"HIGH\"],\n",
    "                    low=df[\"LOW\"],\n",
    "                    close=df[\"LEGALCLOSEPRICE\"])])\n",
    "    fig.update_layout(\n",
    "    title=\"Candlestick chart\",\n",
    "    yaxis_title=\"Price\")\n",
    "    fig.show()\n",
    "    \n",
    "def get_plot_RSI(data, n, doplot):\n",
    "    delta = data['LEGALCLOSEPRICE'].diff()\n",
    "    dUp, dDown = delta.copy(), delta.copy()\n",
    "    dUp[dUp < 0] = 0\n",
    "    dDown[dDown > 0] = 0\n",
    "    RolUp = dUp.rolling(window=n, min_periods=0).mean() \n",
    "    RolDown = dDown.rolling(window=n, min_periods=0).mean().abs()\n",
    "    RS = RolUp / RolDown\n",
    "    \n",
    "    if doplot ==1:\n",
    "        data.set_index(pd.to_datetime(data['TRADEDATE']))\n",
    "        fig = plt.figure(figsize=(7, 5))\n",
    "        plt.title('RSI graph')\n",
    "        plt.plot(rescale(list(RS.dropna())), label=\"RSI\")\n",
    "        plt.ylabel('RSI')\n",
    "        plt.xlabel('Date')\n",
    "        plt.legend(bbox_to_anchor=(1.05, 1), loc='upper left', borderaxespad=0.)\n",
    "        plt.show()\n",
    "\n",
    "def rescale(values, new_min = 0, new_max = 100):\n",
    "    output = []\n",
    "    old_min, old_max = min(values), max(values)\n",
    "    for v in values:\n",
    "        new_v = (new_max - new_min) / (old_max - old_min) * (v - old_min) + new_min\n",
    "        output.append(new_v)\n",
    "    return output"
   ]
  },
  {
   "cell_type": "markdown",
   "metadata": {},
   "source": [
    "## Graphs and analytics\n",
    "\n",
    "Below we will explore 2 tickets, sberbank and moex.\n",
    "\n",
    "### 1 stock (SBER)"
   ]
  },
  {
   "cell_type": "code",
   "execution_count": 233,
   "metadata": {},
   "outputs": [
    {
     "data": {
      "text/html": [
       "<div>\n",
       "<style scoped>\n",
       "    .dataframe tbody tr th:only-of-type {\n",
       "        vertical-align: middle;\n",
       "    }\n",
       "\n",
       "    .dataframe tbody tr th {\n",
       "        vertical-align: top;\n",
       "    }\n",
       "\n",
       "    .dataframe thead th {\n",
       "        text-align: right;\n",
       "    }\n",
       "</style>\n",
       "<table border=\"1\" class=\"dataframe\">\n",
       "  <thead>\n",
       "    <tr style=\"text-align: right;\">\n",
       "      <th></th>\n",
       "      <th>BOARDID</th>\n",
       "      <th>TRADEDATE</th>\n",
       "      <th>SHORTNAME</th>\n",
       "      <th>SECID</th>\n",
       "      <th>NUMTRADES</th>\n",
       "      <th>VALUE</th>\n",
       "      <th>OPEN</th>\n",
       "      <th>LOW</th>\n",
       "      <th>HIGH</th>\n",
       "      <th>LEGALCLOSEPRICE</th>\n",
       "      <th>WAPRICE</th>\n",
       "      <th>CLOSE</th>\n",
       "      <th>VOLUME</th>\n",
       "      <th>MARKETPRICE2</th>\n",
       "      <th>MARKETPRICE3</th>\n",
       "      <th>ADMITTEDQUOTE</th>\n",
       "      <th>MP2VALTRD</th>\n",
       "      <th>MARKETPRICE3TRADESVALUE</th>\n",
       "      <th>ADMITTEDVALUE</th>\n",
       "      <th>WAVAL</th>\n",
       "    </tr>\n",
       "  </thead>\n",
       "  <tbody>\n",
       "    <tr>\n",
       "      <th>0</th>\n",
       "      <td>TQBR</td>\n",
       "      <td>2013-03-25</td>\n",
       "      <td>Сбербанк</td>\n",
       "      <td>SBER</td>\n",
       "      <td>140</td>\n",
       "      <td>59340002.8</td>\n",
       "      <td>96.00</td>\n",
       "      <td>96.00</td>\n",
       "      <td>101.14</td>\n",
       "      <td>98.66</td>\n",
       "      <td>99.95</td>\n",
       "      <td>98.79</td>\n",
       "      <td>593680</td>\n",
       "      <td>99.99</td>\n",
       "      <td>99.99</td>\n",
       "      <td>99.99</td>\n",
       "      <td>8.572434e+09</td>\n",
       "      <td>8.572434e+09</td>\n",
       "      <td>8.572434e+09</td>\n",
       "      <td>None</td>\n",
       "    </tr>\n",
       "    <tr>\n",
       "      <th>1</th>\n",
       "      <td>TQBR</td>\n",
       "      <td>2013-03-26</td>\n",
       "      <td>Сбербанк</td>\n",
       "      <td>SBER</td>\n",
       "      <td>183</td>\n",
       "      <td>126030358.8</td>\n",
       "      <td>98.58</td>\n",
       "      <td>97.08</td>\n",
       "      <td>99.31</td>\n",
       "      <td>97.13</td>\n",
       "      <td>98.19</td>\n",
       "      <td>97.20</td>\n",
       "      <td>1283550</td>\n",
       "      <td>97.82</td>\n",
       "      <td>97.82</td>\n",
       "      <td>97.82</td>\n",
       "      <td>1.221847e+10</td>\n",
       "      <td>1.221847e+10</td>\n",
       "      <td>1.221847e+10</td>\n",
       "      <td>None</td>\n",
       "    </tr>\n",
       "    <tr>\n",
       "      <th>2</th>\n",
       "      <td>TQBR</td>\n",
       "      <td>2013-03-27</td>\n",
       "      <td>Сбербанк</td>\n",
       "      <td>SBER</td>\n",
       "      <td>176</td>\n",
       "      <td>121835900.2</td>\n",
       "      <td>97.90</td>\n",
       "      <td>95.39</td>\n",
       "      <td>98.00</td>\n",
       "      <td>96.73</td>\n",
       "      <td>96.55</td>\n",
       "      <td>96.75</td>\n",
       "      <td>1261950</td>\n",
       "      <td>96.45</td>\n",
       "      <td>96.45</td>\n",
       "      <td>96.45</td>\n",
       "      <td>1.251981e+10</td>\n",
       "      <td>1.251981e+10</td>\n",
       "      <td>1.251981e+10</td>\n",
       "      <td>None</td>\n",
       "    </tr>\n",
       "    <tr>\n",
       "      <th>3</th>\n",
       "      <td>TQBR</td>\n",
       "      <td>2013-03-28</td>\n",
       "      <td>Сбербанк</td>\n",
       "      <td>SBER</td>\n",
       "      <td>299</td>\n",
       "      <td>192469794.9</td>\n",
       "      <td>96.38</td>\n",
       "      <td>95.72</td>\n",
       "      <td>98.66</td>\n",
       "      <td>98.64</td>\n",
       "      <td>97.63</td>\n",
       "      <td>98.59</td>\n",
       "      <td>1971410</td>\n",
       "      <td>97.74</td>\n",
       "      <td>97.74</td>\n",
       "      <td>97.74</td>\n",
       "      <td>1.257281e+10</td>\n",
       "      <td>1.257281e+10</td>\n",
       "      <td>1.257281e+10</td>\n",
       "      <td>None</td>\n",
       "    </tr>\n",
       "    <tr>\n",
       "      <th>4</th>\n",
       "      <td>TQBR</td>\n",
       "      <td>2013-03-29</td>\n",
       "      <td>Сбербанк</td>\n",
       "      <td>SBER</td>\n",
       "      <td>121</td>\n",
       "      <td>77268860.1</td>\n",
       "      <td>98.60</td>\n",
       "      <td>98.32</td>\n",
       "      <td>99.09</td>\n",
       "      <td>98.83</td>\n",
       "      <td>98.81</td>\n",
       "      <td>98.76</td>\n",
       "      <td>782000</td>\n",
       "      <td>98.77</td>\n",
       "      <td>98.77</td>\n",
       "      <td>98.77</td>\n",
       "      <td>2.611474e+09</td>\n",
       "      <td>2.611474e+09</td>\n",
       "      <td>2.611474e+09</td>\n",
       "      <td>None</td>\n",
       "    </tr>\n",
       "  </tbody>\n",
       "</table>\n",
       "</div>"
      ],
      "text/plain": [
       "  BOARDID   TRADEDATE SHORTNAME SECID  NUMTRADES        VALUE   OPEN    LOW  \\\n",
       "0    TQBR  2013-03-25  Сбербанк  SBER        140   59340002.8  96.00  96.00   \n",
       "1    TQBR  2013-03-26  Сбербанк  SBER        183  126030358.8  98.58  97.08   \n",
       "2    TQBR  2013-03-27  Сбербанк  SBER        176  121835900.2  97.90  95.39   \n",
       "3    TQBR  2013-03-28  Сбербанк  SBER        299  192469794.9  96.38  95.72   \n",
       "4    TQBR  2013-03-29  Сбербанк  SBER        121   77268860.1  98.60  98.32   \n",
       "\n",
       "     HIGH  LEGALCLOSEPRICE  WAPRICE  CLOSE   VOLUME  MARKETPRICE2  \\\n",
       "0  101.14            98.66    99.95  98.79   593680         99.99   \n",
       "1   99.31            97.13    98.19  97.20  1283550         97.82   \n",
       "2   98.00            96.73    96.55  96.75  1261950         96.45   \n",
       "3   98.66            98.64    97.63  98.59  1971410         97.74   \n",
       "4   99.09            98.83    98.81  98.76   782000         98.77   \n",
       "\n",
       "   MARKETPRICE3  ADMITTEDQUOTE     MP2VALTRD  MARKETPRICE3TRADESVALUE  \\\n",
       "0         99.99          99.99  8.572434e+09             8.572434e+09   \n",
       "1         97.82          97.82  1.221847e+10             1.221847e+10   \n",
       "2         96.45          96.45  1.251981e+10             1.251981e+10   \n",
       "3         97.74          97.74  1.257281e+10             1.257281e+10   \n",
       "4         98.77          98.77  2.611474e+09             2.611474e+09   \n",
       "\n",
       "   ADMITTEDVALUE WAVAL  \n",
       "0   8.572434e+09  None  \n",
       "1   1.221847e+10  None  \n",
       "2   1.251981e+10  None  \n",
       "3   1.257281e+10  None  \n",
       "4   2.611474e+09  None  "
      ]
     },
     "execution_count": 233,
     "metadata": {},
     "output_type": "execute_result"
    }
   ],
   "source": [
    "# Initialize the plot with the specified dimensions.\n",
    "\n",
    "company = \"SBER\"\n",
    "# If you have no idea, what are the ticket names, you can choose random number below and work with the ticket\n",
    "# company = choose_stock_numb(31)\n",
    "\n",
    "data_1 = get_data_request(\"2013-01-01\",0, \"stock\", \"shares\", \"TQBR\", company)\n",
    "data_1.head()"
   ]
  },
  {
   "cell_type": "markdown",
   "metadata": {},
   "source": [
    "## Low-High and Open-Close plot"
   ]
  },
  {
   "cell_type": "code",
   "execution_count": 288,
   "metadata": {},
   "outputs": [
    {
     "data": {
      "image/png": "[encoded data removed]",
      "text/plain": [
       "<Figure size 504x360 with 1 Axes>"
      ]
     },
     "metadata": {
      "needs_background": "light"
     },
     "output_type": "display_data"
    }
   ],
   "source": [
    "plot_low_high(data_1)"
   ]
  },
  {
   "cell_type": "markdown",
   "metadata": {},
   "source": [
    "### Comment:\n",
    "text"
   ]
  },
  {
   "cell_type": "code",
   "execution_count": 289,
   "metadata": {},
   "outputs": [
    {
     "data": {
      "image/png": "[encoded data removed]",
      "text/plain": [
       "<Figure size 504x360 with 1 Axes>"
      ]
     },
     "metadata": {
      "needs_background": "light"
     },
     "output_type": "display_data"
    }
   ],
   "source": [
    "plot_open_close(data_1)"
   ]
  },
  {
   "cell_type": "markdown",
   "metadata": {},
   "source": [
    "### Comment:\n",
    "text"
   ]
  },
  {
   "cell_type": "markdown",
   "metadata": {},
   "source": [
    "## SMA (Moving average) 200, 50"
   ]
  },
  {
   "cell_type": "code",
   "execution_count": 304,
   "metadata": {},
   "outputs": [
    {
     "name": "stdout",
     "output_type": "stream",
     "text": [
      "SMA 200\n"
     ]
    },
    {
     "data": {
      "image/png": "[encoded data removed]",
      "text/plain": [
       "<Figure size 504x360 with 1 Axes>"
      ]
     },
     "metadata": {
      "needs_background": "light"
     },
     "output_type": "display_data"
    },
    {
     "data": {
      "image/png": "[encoded data removed]",
      "text/plain": [
       "<Figure size 504x72 with 1 Axes>"
      ]
     },
     "metadata": {
      "needs_background": "light"
     },
     "output_type": "display_data"
    },
    {
     "name": "stdout",
     "output_type": "stream",
     "text": [
      "SMA 50\n"
     ]
    },
    {
     "data": {
      "image/png": "[encoded data removed]",
      "text/plain": [
       "<Figure size 504x360 with 1 Axes>"
      ]
     },
     "metadata": {
      "needs_background": "light"
     },
     "output_type": "display_data"
    }
   ],
   "source": [
    "print(\"SMA 200\")\n",
    "plot_mov_av(data_1, 200, 1)\n",
    "print(\"SMA 50\")\n",
    "plot_mov_av(data_1, 50, 0)"
   ]
  },
  {
   "cell_type": "markdown",
   "metadata": {},
   "source": [
    "### Comment:\n",
    "text"
   ]
  },
  {
   "cell_type": "markdown",
   "metadata": {},
   "source": [
    "## Candle chart"
   ]
  },
  {
   "cell_type": "code",
   "execution_count": 298,
   "metadata": {},
   "outputs": [
    {
     "data": {
      "application/vnd.plotly.v1+json": {
       "config": {
        "plotlyServerURL": "https://plot.ly"
       },
       "data": [
        {
         "close": [
          98.66,
          97.13,
          96.73,
          98.64,
          98.83,
          98.08,
          98.96,
          99.48,
          99.89,
          99.29,
          100.35,
          102.61,
          103.28,
          102.43,
          98.43,
          95.35,
          95.88,
          94.64,
          95.37,
          96.35,
          94.99,
          96.44,
          97.92,
          96.37,
          95.73,
          94.71,
          99.02,
          100.8,
          102.91,
          102.41,
          105.14,
          105.81,
          103.6,
          103.33,
          103.88,
          103.23,
          102.45,
          105.1,
          106.63,
          108.88,
          110.8,
          105.62,
          103.01,
          102.86,
          104,
          99.98,
          99.94,
          98.73,
          98.72,
          98.89,
          97.56,
          96.8,
          99.05,
          97.83,
          94.67,
          91.76,
          93.58,
          95.65,
          96.4,
          94.57,
          91.37,
          91.31,
          88.75,
          89.59,
          92.56,
          93.36,
          93.5,
          95.38,
          94.61,
          93.04,
          94.02,
          93.27,
          92.82,
          92.43,
          91.11,
          95.42,
          98.54,
          99.72,
          99.46,
          101.02,
          98.42,
          99.93,
          97.84,
          96.85,
          96.36,
          95.86,
          94.86,
          94.29,
          94.21,
          95.22,
          96.77,
          96.98,
          96.32,
          94.72,
          94.37,
          94,
          95.66,
          96.21,
          97.2,
          97.98
         ],
         "high": [
          101.14,
          99.31,
          98,
          98.66,
          99.09,
          99.43,
          99.45,
          99.71,
          101.13,
          100.84,
          100.78,
          102.62,
          102.79,
          100.79,
          100.14,
          97.69,
          96.88,
          96.62,
          96.49,
          96.86,
          97.95,
          96.5,
          98.75,
          99.35,
          96.94,
          96.8,
          99.3,
          101.29,
          103,
          103.29,
          105.66,
          105.83,
          105.86,
          103.86,
          104.78,
          104.39,
          103.91,
          105.28,
          107.13,
          109.42,
          111.42,
          108.6,
          106.57,
          103.83,
          104.97,
          103.42,
          100.92,
          100.61,
          100.68,
          101.52,
          99.28,
          98.17,
          99.52,
          100.63,
          98.43,
          93.52,
          94,
          95.85,
          96.87,
          96.55,
          93,
          93.28,
          91.73,
          90.69,
          92.71,
          93.74,
          94.62,
          95.67,
          95.75,
          93.98,
          94.6,
          94.95,
          93.41,
          93.46,
          92.73,
          95.55,
          98.99,
          100.39,
          101.34,
          101.31,
          101.74,
          101.3,
          100.67,
          99.05,
          97.5,
          96.91,
          96.7,
          95.57,
          95.02,
          95.54,
          96.97,
          97.88,
          97.49,
          96.16,
          95.29,
          95.15,
          95.74,
          96.4,
          97.93,
          98.24
         ],
         "low": [
          96,
          97.08,
          95.39,
          95.72,
          98.32,
          97.55,
          98.04,
          98.69,
          98.5,
          98.4,
          99.83,
          100.7,
          99.81,
          99.45,
          98.2,
          95.05,
          94.73,
          93.72,
          94.26,
          95.67,
          94.79,
          94.05,
          96.51,
          93,
          95.01,
          94.7,
          94.65,
          98.75,
          100.33,
          102.03,
          101.68,
          104.23,
          103.59,
          101.95,
          102.86,
          102.4,
          102.35,
          101.8,
          105.23,
          105.89,
          108.93,
          105.61,
          102.47,
          102.15,
          103.41,
          99.9,
          98.83,
          97.75,
          96.79,
          98.71,
          97.3,
          96.26,
          96.95,
          97.3,
          94.06,
          90.47,
          91.41,
          93.92,
          95.12,
          94.11,
          91.16,
          90.68,
          88.56,
          89.16,
          89.36,
          91.9,
          92.32,
          93.11,
          94.09,
          92.69,
          92.4,
          92.65,
          91.89,
          92.06,
          90.76,
          92.38,
          95.2,
          98.43,
          99.14,
          98.79,
          97.87,
          97.77,
          97.82,
          96.76,
          95.72,
          95.57,
          94.74,
          94.15,
          93.74,
          93.73,
          95.54,
          95.72,
          96,
          94.69,
          94.1,
          93.32,
          93.95,
          94.78,
          95.93,
          97.22
         ],
         "open": [
          96,
          98.58,
          97.9,
          96.38,
          98.6,
          98.37,
          98.12,
          98.9,
          98.86,
          99.88,
          99.97,
          101.24,
          102.79,
          100.78,
          99.67,
          97.68,
          94.73,
          96.62,
          94.7,
          96.3,
          97.21,
          94.44,
          97.14,
          98.17,
          95.87,
          95.69,
          94.8,
          98.75,
          101.64,
          103.29,
          102.14,
          105.37,
          105.26,
          103.55,
          103.79,
          104.33,
          103.27,
          101.9,
          105.66,
          106.21,
          109.18,
          108.6,
          106.25,
          103.62,
          103.5,
          103.29,
          99.67,
          100.55,
          97.85,
          100,
          98.32,
          97.29,
          97.96,
          99.73,
          97.16,
          93.52,
          92.92,
          94.2,
          95.45,
          96.32,
          92.99,
          90.68,
          90.94,
          89.25,
          89.9,
          92.98,
          93.62,
          93.74,
          95.4,
          93.69,
          93.59,
          94.15,
          92.78,
          93.2,
          92.35,
          92.38,
          96,
          98.58,
          99.95,
          99.42,
          101.2,
          97.77,
          100.67,
          98.46,
          96.9,
          96.32,
          96.5,
          94.78,
          94.53,
          94.26,
          95.54,
          97.49,
          97.1,
          95.71,
          94.36,
          95,
          94.48,
          95.8,
          95.93,
          97.65
         ],
         "type": "candlestick",
         "x": [
          "2013-03-25",
          "2013-03-26",
          "2013-03-27",
          "2013-03-28",
          "2013-03-29",
          "2013-04-01",
          "2013-04-02",
          "2013-04-03",
          "2013-04-04",
          "2013-04-05",
          "2013-04-08",
          "2013-04-09",
          "2013-04-10",
          "2013-04-11",
          "2013-04-12",
          "2013-04-15",
          "2013-04-16",
          "2013-04-17",
          "2013-04-18",
          "2013-04-19",
          "2013-04-22",
          "2013-04-23",
          "2013-04-24",
          "2013-04-25",
          "2013-04-26",
          "2013-04-29",
          "2013-04-30",
          "2013-05-02",
          "2013-05-03",
          "2013-05-06",
          "2013-05-07",
          "2013-05-08",
          "2013-05-10",
          "2013-05-13",
          "2013-05-14",
          "2013-05-15",
          "2013-05-16",
          "2013-05-17",
          "2013-05-20",
          "2013-05-21",
          "2013-05-22",
          "2013-05-23",
          "2013-05-24",
          "2013-05-27",
          "2013-05-28",
          "2013-05-29",
          "2013-05-30",
          "2013-05-31",
          "2013-06-03",
          "2013-06-04",
          "2013-06-05",
          "2013-06-06",
          "2013-06-07",
          "2013-06-10",
          "2013-06-11",
          "2013-06-13",
          "2013-06-14",
          "2013-06-17",
          "2013-06-18",
          "2013-06-19",
          "2013-06-20",
          "2013-06-21",
          "2013-06-24",
          "2013-06-25",
          "2013-06-26",
          "2013-06-27",
          "2013-06-28",
          "2013-07-01",
          "2013-07-02",
          "2013-07-03",
          "2013-07-04",
          "2013-07-05",
          "2013-07-08",
          "2013-07-09",
          "2013-07-10",
          "2013-07-11",
          "2013-07-12",
          "2013-07-15",
          "2013-07-16",
          "2013-07-17",
          "2013-07-18",
          "2013-07-19",
          "2013-07-22",
          "2013-07-23",
          "2013-07-24",
          "2013-07-25",
          "2013-07-26",
          "2013-07-29",
          "2013-07-30",
          "2013-07-31",
          "2013-08-01",
          "2013-08-02",
          "2013-08-05",
          "2013-08-06",
          "2013-08-07",
          "2013-08-08",
          "2013-08-09",
          "2013-08-12",
          "2013-08-13",
          "2013-08-14"
         ]
        }
       ],
       "layout": {
        "template": {
         "data": {
          "bar": [
           {
            "error_x": {
             "color": "#2a3f5f"
            },
            "error_y": {
             "color": "#2a3f5f"
            },
            "marker": {
             "line": {
              "color": "#E5ECF6",
              "width": 0.5
             }
            },
            "type": "bar"
           }
          ],
          "barpolar": [
           {
            "marker": {
             "line": {
              "color": "#E5ECF6",
              "width": 0.5
             }
            },
            "type": "barpolar"
           }
          ],
          "carpet": [
           {
            "aaxis": {
             "endlinecolor": "#2a3f5f",
             "gridcolor": "white",
             "linecolor": "white",
             "minorgridcolor": "white",
             "startlinecolor": "#2a3f5f"
            },
            "baxis": {
             "endlinecolor": "#2a3f5f",
             "gridcolor": "white",
             "linecolor": "white",
             "minorgridcolor": "white",
             "startlinecolor": "#2a3f5f"
            },
            "type": "carpet"
           }
          ],
          "choropleth": [
           {
            "colorbar": {
             "outlinewidth": 0,
             "ticks": ""
            },
            "type": "choropleth"
           }
          ],
          "contour": [
           {
            "colorbar": {
             "outlinewidth": 0,
             "ticks": ""
            },
            "colorscale": [
             [
              0,
              "#0d0887"
             ],
             [
              0.1111111111111111,
              "#46039f"
             ],
             [
              0.2222222222222222,
              "#7201a8"
             ],
             [
              0.3333333333333333,
              "#9c179e"
             ],
             [
              0.4444444444444444,
              "#bd3786"
             ],
             [
              0.5555555555555556,
              "#d8576b"
             ],
             [
              0.6666666666666666,
              "#ed7953"
             ],
             [
              0.7777777777777778,
              "#fb9f3a"
             ],
             [
              0.8888888888888888,
              "#fdca26"
             ],
             [
              1,
              "#f0f921"
             ]
            ],
            "type": "contour"
           }
          ],
          "contourcarpet": [
           {
            "colorbar": {
             "outlinewidth": 0,
             "ticks": ""
            },
            "type": "contourcarpet"
           }
          ],
          "heatmap": [
           {
            "colorbar": {
             "outlinewidth": 0,
             "ticks": ""
            },
            "colorscale": [
             [
              0,
              "#0d0887"
             ],
             [
              0.1111111111111111,
              "#46039f"
             ],
             [
              0.2222222222222222,
              "#7201a8"
             ],
             [
              0.3333333333333333,
              "#9c179e"
             ],
             [
              0.4444444444444444,
              "#bd3786"
             ],
             [
              0.5555555555555556,
              "#d8576b"
             ],
             [
              0.6666666666666666,
              "#ed7953"
             ],
             [
              0.7777777777777778,
              "#fb9f3a"
             ],
             [
              0.8888888888888888,
              "#fdca26"
             ],
             [
              1,
              "#f0f921"
             ]
            ],
            "type": "heatmap"
           }
          ],
          "heatmapgl": [
           {
            "colorbar": {
             "outlinewidth": 0,
             "ticks": ""
            },
            "colorscale": [
             [
              0,
              "#0d0887"
             ],
             [
              0.1111111111111111,
              "#46039f"
             ],
             [
              0.2222222222222222,
              "#7201a8"
             ],
             [
              0.3333333333333333,
              "#9c179e"
             ],
             [
              0.4444444444444444,
              "#bd3786"
             ],
             [
              0.5555555555555556,
              "#d8576b"
             ],
             [
              0.6666666666666666,
              "#ed7953"
             ],
             [
              0.7777777777777778,
              "#fb9f3a"
             ],
             [
              0.8888888888888888,
              "#fdca26"
             ],
             [
              1,
              "#f0f921"
             ]
            ],
            "type": "heatmapgl"
           }
          ],
          "histogram": [
           {
            "marker": {
             "colorbar": {
              "outlinewidth": 0,
              "ticks": ""
             }
            },
            "type": "histogram"
           }
          ],
          "histogram2d": [
           {
            "colorbar": {
             "outlinewidth": 0,
             "ticks": ""
            },
            "colorscale": [
             [
              0,
              "#0d0887"
             ],
             [
              0.1111111111111111,
              "#46039f"
             ],
             [
              0.2222222222222222,
              "#7201a8"
             ],
             [
              0.3333333333333333,
              "#9c179e"
             ],
             [
              0.4444444444444444,
              "#bd3786"
             ],
             [
              0.5555555555555556,
              "#d8576b"
             ],
             [
              0.6666666666666666,
              "#ed7953"
             ],
             [
              0.7777777777777778,
              "#fb9f3a"
             ],
             [
              0.8888888888888888,
              "#fdca26"
             ],
             [
              1,
              "#f0f921"
             ]
            ],
            "type": "histogram2d"
           }
          ],
          "histogram2dcontour": [
           {
            "colorbar": {
             "outlinewidth": 0,
             "ticks": ""
            },
            "colorscale": [
             [
              0,
              "#0d0887"
             ],
             [
              0.1111111111111111,
              "#46039f"
             ],
             [
              0.2222222222222222,
              "#7201a8"
             ],
             [
              0.3333333333333333,
              "#9c179e"
             ],
             [
              0.4444444444444444,
              "#bd3786"
             ],
             [
              0.5555555555555556,
              "#d8576b"
             ],
             [
              0.6666666666666666,
              "#ed7953"
             ],
             [
              0.7777777777777778,
              "#fb9f3a"
             ],
             [
              0.8888888888888888,
              "#fdca26"
             ],
             [
              1,
              "#f0f921"
             ]
            ],
            "type": "histogram2dcontour"
           }
          ],
          "mesh3d": [
           {
            "colorbar": {
             "outlinewidth": 0,
             "ticks": ""
            },
            "type": "mesh3d"
           }
          ],
          "parcoords": [
           {
            "line": {
             "colorbar": {
              "outlinewidth": 0,
              "ticks": ""
             }
            },
            "type": "parcoords"
           }
          ],
          "pie": [
           {
            "automargin": true,
            "type": "pie"
           }
          ],
          "scatter": [
           {
            "marker": {
             "colorbar": {
              "outlinewidth": 0,
              "ticks": ""
             }
            },
            "type": "scatter"
           }
          ],
          "scatter3d": [
           {
            "line": {
             "colorbar": {
              "outlinewidth": 0,
              "ticks": ""
             }
            },
            "marker": {
             "colorbar": {
              "outlinewidth": 0,
              "ticks": ""
             }
            },
            "type": "scatter3d"
           }
          ],
          "scattercarpet": [
           {
            "marker": {
             "colorbar": {
              "outlinewidth": 0,
              "ticks": ""
             }
            },
            "type": "scattercarpet"
           }
          ],
          "scattergeo": [
           {
            "marker": {
             "colorbar": {
              "outlinewidth": 0,
              "ticks": ""
             }
            },
            "type": "scattergeo"
           }
          ],
          "scattergl": [
           {
            "marker": {
             "colorbar": {
              "outlinewidth": 0,
              "ticks": ""
             }
            },
            "type": "scattergl"
           }
          ],
          "scattermapbox": [
           {
            "marker": {
             "colorbar": {
              "outlinewidth": 0,
              "ticks": ""
             }
            },
            "type": "scattermapbox"
           }
          ],
          "scatterpolar": [
           {
            "marker": {
             "colorbar": {
              "outlinewidth": 0,
              "ticks": ""
             }
            },
            "type": "scatterpolar"
           }
          ],
          "scatterpolargl": [
           {
            "marker": {
             "colorbar": {
              "outlinewidth": 0,
              "ticks": ""
             }
            },
            "type": "scatterpolargl"
           }
          ],
          "scatterternary": [
           {
            "marker": {
             "colorbar": {
              "outlinewidth": 0,
              "ticks": ""
             }
            },
            "type": "scatterternary"
           }
          ],
          "surface": [
           {
            "colorbar": {
             "outlinewidth": 0,
             "ticks": ""
            },
            "colorscale": [
             [
              0,
              "#0d0887"
             ],
             [
              0.1111111111111111,
              "#46039f"
             ],
             [
              0.2222222222222222,
              "#7201a8"
             ],
             [
              0.3333333333333333,
              "#9c179e"
             ],
             [
              0.4444444444444444,
              "#bd3786"
             ],
             [
              0.5555555555555556,
              "#d8576b"
             ],
             [
              0.6666666666666666,
              "#ed7953"
             ],
             [
              0.7777777777777778,
              "#fb9f3a"
             ],
             [
              0.8888888888888888,
              "#fdca26"
             ],
             [
              1,
              "#f0f921"
             ]
            ],
            "type": "surface"
           }
          ],
          "table": [
           {
            "cells": {
             "fill": {
              "color": "#EBF0F8"
             },
             "line": {
              "color": "white"
             }
            },
            "header": {
             "fill": {
              "color": "#C8D4E3"
             },
             "line": {
              "color": "white"
             }
            },
            "type": "table"
           }
          ]
         },
         "layout": {
          "annotationdefaults": {
           "arrowcolor": "#2a3f5f",
           "arrowhead": 0,
           "arrowwidth": 1
          },
          "coloraxis": {
           "colorbar": {
            "outlinewidth": 0,
            "ticks": ""
           }
          },
          "colorscale": {
           "diverging": [
            [
             0,
             "#8e0152"
            ],
            [
             0.1,
             "#c51b7d"
            ],
            [
             0.2,
             "#de77ae"
            ],
            [
             0.3,
             "#f1b6da"
            ],
            [
             0.4,
             "#fde0ef"
            ],
            [
             0.5,
             "#f7f7f7"
            ],
            [
             0.6,
             "#e6f5d0"
            ],
            [
             0.7,
             "#b8e186"
            ],
            [
             0.8,
             "#7fbc41"
            ],
            [
             0.9,
             "#4d9221"
            ],
            [
             1,
             "#276419"
            ]
           ],
           "sequential": [
            [
             0,
             "#0d0887"
            ],
            [
             0.1111111111111111,
             "#46039f"
            ],
            [
             0.2222222222222222,
             "#7201a8"
            ],
            [
             0.3333333333333333,
             "#9c179e"
            ],
            [
             0.4444444444444444,
             "#bd3786"
            ],
            [
             0.5555555555555556,
             "#d8576b"
            ],
            [
             0.6666666666666666,
             "#ed7953"
            ],
            [
             0.7777777777777778,
             "#fb9f3a"
            ],
            [
             0.8888888888888888,
             "#fdca26"
            ],
            [
             1,
             "#f0f921"
            ]
           ],
           "sequentialminus": [
            [
             0,
             "#0d0887"
            ],
            [
             0.1111111111111111,
             "#46039f"
            ],
            [
             0.2222222222222222,
             "#7201a8"
            ],
            [
             0.3333333333333333,
             "#9c179e"
            ],
            [
             0.4444444444444444,
             "#bd3786"
            ],
            [
             0.5555555555555556,
             "#d8576b"
            ],
            [
             0.6666666666666666,
             "#ed7953"
            ],
            [
             0.7777777777777778,
             "#fb9f3a"
            ],
            [
             0.8888888888888888,
             "#fdca26"
            ],
            [
             1,
             "#f0f921"
            ]
           ]
          },
          "colorway": [
           "#636efa",
           "#EF553B",
           "#00cc96",
           "#ab63fa",
           "#FFA15A",
           "#19d3f3",
           "#FF6692",
           "#B6E880",
           "#FF97FF",
           "#FECB52"
          ],
          "font": {
           "color": "#2a3f5f"
          },
          "geo": {
           "bgcolor": "white",
           "lakecolor": "white",
           "landcolor": "#E5ECF6",
           "showlakes": true,
           "showland": true,
           "subunitcolor": "white"
          },
          "hoverlabel": {
           "align": "left"
          },
          "hovermode": "closest",
          "mapbox": {
           "style": "light"
          },
          "paper_bgcolor": "white",
          "plot_bgcolor": "#E5ECF6",
          "polar": {
           "angularaxis": {
            "gridcolor": "white",
            "linecolor": "white",
            "ticks": ""
           },
           "bgcolor": "#E5ECF6",
           "radialaxis": {
            "gridcolor": "white",
            "linecolor": "white",
            "ticks": ""
           }
          },
          "scene": {
           "xaxis": {
            "backgroundcolor": "#E5ECF6",
            "gridcolor": "white",
            "gridwidth": 2,
            "linecolor": "white",
            "showbackground": true,
            "ticks": "",
            "zerolinecolor": "white"
           },
           "yaxis": {
            "backgroundcolor": "#E5ECF6",
            "gridcolor": "white",
            "gridwidth": 2,
            "linecolor": "white",
            "showbackground": true,
            "ticks": "",
            "zerolinecolor": "white"
           },
           "zaxis": {
            "backgroundcolor": "#E5ECF6",
            "gridcolor": "white",
            "gridwidth": 2,
            "linecolor": "white",
            "showbackground": true,
            "ticks": "",
            "zerolinecolor": "white"
           }
          },
          "shapedefaults": {
           "line": {
            "color": "#2a3f5f"
           }
          },
          "ternary": {
           "aaxis": {
            "gridcolor": "white",
            "linecolor": "white",
            "ticks": ""
           },
           "baxis": {
            "gridcolor": "white",
            "linecolor": "white",
            "ticks": ""
           },
           "bgcolor": "#E5ECF6",
           "caxis": {
            "gridcolor": "white",
            "linecolor": "white",
            "ticks": ""
           }
          },
          "title": {
           "x": 0.05
          },
          "xaxis": {
           "automargin": true,
           "gridcolor": "white",
           "linecolor": "white",
           "ticks": "",
           "title": {
            "standoff": 15
           },
           "zerolinecolor": "white",
           "zerolinewidth": 2
          },
          "yaxis": {
           "automargin": true,
           "gridcolor": "white",
           "linecolor": "white",
           "ticks": "",
           "title": {
            "standoff": 15
           },
           "zerolinecolor": "white",
           "zerolinewidth": 2
          }
         }
        },
        "title": {
         "text": "Candlestick chart"
        },
        "yaxis": {
         "title": {
          "text": "Price"
         }
        }
       }
      },
      "text/html": [
       "<div>\n",
       "        \n",
       "        \n",
       "            <div id=\"e0fe6f05-f4df-4272-87d0-dbfd4046c232\" class=\"plotly-graph-div\" style=\"height:525px; width:100%;\"></div>\n",
       "            <script type=\"text/javascript\">\n",
       "                require([\"plotly\"], function(Plotly) {\n",
       "                    window.PLOTLYENV=window.PLOTLYENV || {};\n",
       "                    \n",
       "                if (document.getElementById(\"e0fe6f05-f4df-4272-87d0-dbfd4046c232\")) {\n",
       "                    Plotly.newPlot(\n",
       "                        'e0fe6f05-f4df-4272-87d0-dbfd4046c232',\n",
       "                        [{\"close\": [98.66, 97.13, 96.73, 98.64, 98.83, 98.08, 98.96, 99.48, 99.89, 99.29, 100.35, 102.61, 103.28, 102.43, 98.43, 95.35, 95.88, 94.64, 95.37, 96.35, 94.99, 96.44, 97.92, 96.37, 95.73, 94.71, 99.02, 100.8, 102.91, 102.41, 105.14, 105.81, 103.6, 103.33, 103.88, 103.23, 102.45, 105.1, 106.63, 108.88, 110.8, 105.62, 103.01, 102.86, 104.0, 99.98, 99.94, 98.73, 98.72, 98.89, 97.56, 96.8, 99.05, 97.83, 94.67, 91.76, 93.58, 95.65, 96.4, 94.57, 91.37, 91.31, 88.75, 89.59, 92.56, 93.36, 93.5, 95.38, 94.61, 93.04, 94.02, 93.27, 92.82, 92.43, 91.11, 95.42, 98.54, 99.72, 99.46, 101.02, 98.42, 99.93, 97.84, 96.85, 96.36, 95.86, 94.86, 94.29, 94.21, 95.22, 96.77, 96.98, 96.32, 94.72, 94.37, 94.0, 95.66, 96.21, 97.2, 97.98], \"high\": [101.14, 99.31, 98.0, 98.66, 99.09, 99.43, 99.45, 99.71, 101.13, 100.84, 100.78, 102.62, 102.79, 100.79, 100.14, 97.69, 96.88, 96.62, 96.49, 96.86, 97.95, 96.5, 98.75, 99.35, 96.94, 96.8, 99.3, 101.29, 103.0, 103.29, 105.66, 105.83, 105.86, 103.86, 104.78, 104.39, 103.91, 105.28, 107.13, 109.42, 111.42, 108.6, 106.57, 103.83, 104.97, 103.42, 100.92, 100.61, 100.68, 101.52, 99.28, 98.17, 99.52, 100.63, 98.43, 93.52, 94.0, 95.85, 96.87, 96.55, 93.0, 93.28, 91.73, 90.69, 92.71, 93.74, 94.62, 95.67, 95.75, 93.98, 94.6, 94.95, 93.41, 93.46, 92.73, 95.55, 98.99, 100.39, 101.34, 101.31, 101.74, 101.3, 100.67, 99.05, 97.5, 96.91, 96.7, 95.57, 95.02, 95.54, 96.97, 97.88, 97.49, 96.16, 95.29, 95.15, 95.74, 96.4, 97.93, 98.24], \"low\": [96.0, 97.08, 95.39, 95.72, 98.32, 97.55, 98.04, 98.69, 98.5, 98.4, 99.83, 100.7, 99.81, 99.45, 98.2, 95.05, 94.73, 93.72, 94.26, 95.67, 94.79, 94.05, 96.51, 93.0, 95.01, 94.7, 94.65, 98.75, 100.33, 102.03, 101.68, 104.23, 103.59, 101.95, 102.86, 102.4, 102.35, 101.8, 105.23, 105.89, 108.93, 105.61, 102.47, 102.15, 103.41, 99.9, 98.83, 97.75, 96.79, 98.71, 97.3, 96.26, 96.95, 97.3, 94.06, 90.47, 91.41, 93.92, 95.12, 94.11, 91.16, 90.68, 88.56, 89.16, 89.36, 91.9, 92.32, 93.11, 94.09, 92.69, 92.4, 92.65, 91.89, 92.06, 90.76, 92.38, 95.2, 98.43, 99.14, 98.79, 97.87, 97.77, 97.82, 96.76, 95.72, 95.57, 94.74, 94.15, 93.74, 93.73, 95.54, 95.72, 96.0, 94.69, 94.1, 93.32, 93.95, 94.78, 95.93, 97.22], \"open\": [96.0, 98.58, 97.9, 96.38, 98.6, 98.37, 98.12, 98.9, 98.86, 99.88, 99.97, 101.24, 102.79, 100.78, 99.67, 97.68, 94.73, 96.62, 94.7, 96.3, 97.21, 94.44, 97.14, 98.17, 95.87, 95.69, 94.8, 98.75, 101.64, 103.29, 102.14, 105.37, 105.26, 103.55, 103.79, 104.33, 103.27, 101.9, 105.66, 106.21, 109.18, 108.6, 106.25, 103.62, 103.5, 103.29, 99.67, 100.55, 97.85, 100.0, 98.32, 97.29, 97.96, 99.73, 97.16, 93.52, 92.92, 94.2, 95.45, 96.32, 92.99, 90.68, 90.94, 89.25, 89.9, 92.98, 93.62, 93.74, 95.4, 93.69, 93.59, 94.15, 92.78, 93.2, 92.35, 92.38, 96.0, 98.58, 99.95, 99.42, 101.2, 97.77, 100.67, 98.46, 96.9, 96.32, 96.5, 94.78, 94.53, 94.26, 95.54, 97.49, 97.1, 95.71, 94.36, 95.0, 94.48, 95.8, 95.93, 97.65], \"type\": \"candlestick\", \"x\": [\"2013-03-25\", \"2013-03-26\", \"2013-03-27\", \"2013-03-28\", \"2013-03-29\", \"2013-04-01\", \"2013-04-02\", \"2013-04-03\", \"2013-04-04\", \"2013-04-05\", \"2013-04-08\", \"2013-04-09\", \"2013-04-10\", \"2013-04-11\", \"2013-04-12\", \"2013-04-15\", \"2013-04-16\", \"2013-04-17\", \"2013-04-18\", \"2013-04-19\", \"2013-04-22\", \"2013-04-23\", \"2013-04-24\", \"2013-04-25\", \"2013-04-26\", \"2013-04-29\", \"2013-04-30\", \"2013-05-02\", \"2013-05-03\", \"2013-05-06\", \"2013-05-07\", \"2013-05-08\", \"2013-05-10\", \"2013-05-13\", \"2013-05-14\", \"2013-05-15\", \"2013-05-16\", \"2013-05-17\", \"2013-05-20\", \"2013-05-21\", \"2013-05-22\", \"2013-05-23\", \"2013-05-24\", \"2013-05-27\", \"2013-05-28\", \"2013-05-29\", \"2013-05-30\", \"2013-05-31\", \"2013-06-03\", \"2013-06-04\", \"2013-06-05\", \"2013-06-06\", \"2013-06-07\", \"2013-06-10\", \"2013-06-11\", \"2013-06-13\", \"2013-06-14\", \"2013-06-17\", \"2013-06-18\", \"2013-06-19\", \"2013-06-20\", \"2013-06-21\", \"2013-06-24\", \"2013-06-25\", \"2013-06-26\", \"2013-06-27\", \"2013-06-28\", \"2013-07-01\", \"2013-07-02\", \"2013-07-03\", \"2013-07-04\", \"2013-07-05\", \"2013-07-08\", \"2013-07-09\", \"2013-07-10\", \"2013-07-11\", \"2013-07-12\", \"2013-07-15\", \"2013-07-16\", \"2013-07-17\", \"2013-07-18\", \"2013-07-19\", \"2013-07-22\", \"2013-07-23\", \"2013-07-24\", \"2013-07-25\", \"2013-07-26\", \"2013-07-29\", \"2013-07-30\", \"2013-07-31\", \"2013-08-01\", \"2013-08-02\", \"2013-08-05\", \"2013-08-06\", \"2013-08-07\", \"2013-08-08\", \"2013-08-09\", \"2013-08-12\", \"2013-08-13\", \"2013-08-14\"]}],\n",
       "                        {\"template\": {\"data\": {\"bar\": [{\"error_x\": {\"color\": \"#2a3f5f\"}, \"error_y\": {\"color\": \"#2a3f5f\"}, \"marker\": {\"line\": {\"color\": \"#E5ECF6\", \"width\": 0.5}}, \"type\": \"bar\"}], \"barpolar\": [{\"marker\": {\"line\": {\"color\": \"#E5ECF6\", \"width\": 0.5}}, \"type\": \"barpolar\"}], \"carpet\": [{\"aaxis\": {\"endlinecolor\": \"#2a3f5f\", \"gridcolor\": \"white\", \"linecolor\": \"white\", \"minorgridcolor\": \"white\", \"startlinecolor\": \"#2a3f5f\"}, \"baxis\": {\"endlinecolor\": \"#2a3f5f\", \"gridcolor\": \"white\", \"linecolor\": \"white\", \"minorgridcolor\": \"white\", \"startlinecolor\": \"#2a3f5f\"}, \"type\": \"carpet\"}], \"choropleth\": [{\"colorbar\": {\"outlinewidth\": 0, \"ticks\": \"\"}, \"type\": \"choropleth\"}], \"contour\": [{\"colorbar\": {\"outlinewidth\": 0, \"ticks\": \"\"}, \"colorscale\": [[0.0, \"#0d0887\"], [0.1111111111111111, \"#46039f\"], [0.2222222222222222, \"#7201a8\"], [0.3333333333333333, \"#9c179e\"], [0.4444444444444444, \"#bd3786\"], [0.5555555555555556, \"#d8576b\"], [0.6666666666666666, \"#ed7953\"], [0.7777777777777778, \"#fb9f3a\"], [0.8888888888888888, \"#fdca26\"], [1.0, \"#f0f921\"]], \"type\": \"contour\"}], \"contourcarpet\": [{\"colorbar\": {\"outlinewidth\": 0, \"ticks\": \"\"}, \"type\": \"contourcarpet\"}], \"heatmap\": [{\"colorbar\": {\"outlinewidth\": 0, \"ticks\": \"\"}, \"colorscale\": [[0.0, \"#0d0887\"], [0.1111111111111111, \"#46039f\"], [0.2222222222222222, \"#7201a8\"], [0.3333333333333333, \"#9c179e\"], [0.4444444444444444, \"#bd3786\"], [0.5555555555555556, \"#d8576b\"], [0.6666666666666666, \"#ed7953\"], [0.7777777777777778, \"#fb9f3a\"], [0.8888888888888888, \"#fdca26\"], [1.0, \"#f0f921\"]], \"type\": \"heatmap\"}], \"heatmapgl\": [{\"colorbar\": {\"outlinewidth\": 0, \"ticks\": \"\"}, \"colorscale\": [[0.0, \"#0d0887\"], [0.1111111111111111, \"#46039f\"], [0.2222222222222222, \"#7201a8\"], [0.3333333333333333, \"#9c179e\"], [0.4444444444444444, \"#bd3786\"], [0.5555555555555556, \"#d8576b\"], [0.6666666666666666, \"#ed7953\"], [0.7777777777777778, \"#fb9f3a\"], [0.8888888888888888, \"#fdca26\"], [1.0, \"#f0f921\"]], \"type\": \"heatmapgl\"}], \"histogram\": [{\"marker\": {\"colorbar\": {\"outlinewidth\": 0, \"ticks\": \"\"}}, \"type\": \"histogram\"}], \"histogram2d\": [{\"colorbar\": {\"outlinewidth\": 0, \"ticks\": \"\"}, \"colorscale\": [[0.0, \"#0d0887\"], [0.1111111111111111, \"#46039f\"], [0.2222222222222222, \"#7201a8\"], [0.3333333333333333, \"#9c179e\"], [0.4444444444444444, \"#bd3786\"], [0.5555555555555556, \"#d8576b\"], [0.6666666666666666, \"#ed7953\"], [0.7777777777777778, \"#fb9f3a\"], [0.8888888888888888, \"#fdca26\"], [1.0, \"#f0f921\"]], \"type\": \"histogram2d\"}], \"histogram2dcontour\": [{\"colorbar\": {\"outlinewidth\": 0, \"ticks\": \"\"}, \"colorscale\": [[0.0, \"#0d0887\"], [0.1111111111111111, \"#46039f\"], [0.2222222222222222, \"#7201a8\"], [0.3333333333333333, \"#9c179e\"], [0.4444444444444444, \"#bd3786\"], [0.5555555555555556, \"#d8576b\"], [0.6666666666666666, \"#ed7953\"], [0.7777777777777778, \"#fb9f3a\"], [0.8888888888888888, \"#fdca26\"], [1.0, \"#f0f921\"]], \"type\": \"histogram2dcontour\"}], \"mesh3d\": [{\"colorbar\": {\"outlinewidth\": 0, \"ticks\": \"\"}, \"type\": \"mesh3d\"}], \"parcoords\": [{\"line\": {\"colorbar\": {\"outlinewidth\": 0, \"ticks\": \"\"}}, \"type\": \"parcoords\"}], \"pie\": [{\"automargin\": true, \"type\": \"pie\"}], \"scatter\": [{\"marker\": {\"colorbar\": {\"outlinewidth\": 0, \"ticks\": \"\"}}, \"type\": \"scatter\"}], \"scatter3d\": [{\"line\": {\"colorbar\": {\"outlinewidth\": 0, \"ticks\": \"\"}}, \"marker\": {\"colorbar\": {\"outlinewidth\": 0, \"ticks\": \"\"}}, \"type\": \"scatter3d\"}], \"scattercarpet\": [{\"marker\": {\"colorbar\": {\"outlinewidth\": 0, \"ticks\": \"\"}}, \"type\": \"scattercarpet\"}], \"scattergeo\": [{\"marker\": {\"colorbar\": {\"outlinewidth\": 0, \"ticks\": \"\"}}, \"type\": \"scattergeo\"}], \"scattergl\": [{\"marker\": {\"colorbar\": {\"outlinewidth\": 0, \"ticks\": \"\"}}, \"type\": \"scattergl\"}], \"scattermapbox\": [{\"marker\": {\"colorbar\": {\"outlinewidth\": 0, \"ticks\": \"\"}}, \"type\": \"scattermapbox\"}], \"scatterpolar\": [{\"marker\": {\"colorbar\": {\"outlinewidth\": 0, \"ticks\": \"\"}}, \"type\": \"scatterpolar\"}], \"scatterpolargl\": [{\"marker\": {\"colorbar\": {\"outlinewidth\": 0, \"ticks\": \"\"}}, \"type\": \"scatterpolargl\"}], \"scatterternary\": [{\"marker\": {\"colorbar\": {\"outlinewidth\": 0, \"ticks\": \"\"}}, \"type\": \"scatterternary\"}], \"surface\": [{\"colorbar\": {\"outlinewidth\": 0, \"ticks\": \"\"}, \"colorscale\": [[0.0, \"#0d0887\"], [0.1111111111111111, \"#46039f\"], [0.2222222222222222, \"#7201a8\"], [0.3333333333333333, \"#9c179e\"], [0.4444444444444444, \"#bd3786\"], [0.5555555555555556, \"#d8576b\"], [0.6666666666666666, \"#ed7953\"], [0.7777777777777778, \"#fb9f3a\"], [0.8888888888888888, \"#fdca26\"], [1.0, \"#f0f921\"]], \"type\": \"surface\"}], \"table\": [{\"cells\": {\"fill\": {\"color\": \"#EBF0F8\"}, \"line\": {\"color\": \"white\"}}, \"header\": {\"fill\": {\"color\": \"#C8D4E3\"}, \"line\": {\"color\": \"white\"}}, \"type\": \"table\"}]}, \"layout\": {\"annotationdefaults\": {\"arrowcolor\": \"#2a3f5f\", \"arrowhead\": 0, \"arrowwidth\": 1}, \"coloraxis\": {\"colorbar\": {\"outlinewidth\": 0, \"ticks\": \"\"}}, \"colorscale\": {\"diverging\": [[0, \"#8e0152\"], [0.1, \"#c51b7d\"], [0.2, \"#de77ae\"], [0.3, \"#f1b6da\"], [0.4, \"#fde0ef\"], [0.5, \"#f7f7f7\"], [0.6, \"#e6f5d0\"], [0.7, \"#b8e186\"], [0.8, \"#7fbc41\"], [0.9, \"#4d9221\"], [1, \"#276419\"]], \"sequential\": [[0.0, \"#0d0887\"], [0.1111111111111111, \"#46039f\"], [0.2222222222222222, \"#7201a8\"], [0.3333333333333333, \"#9c179e\"], [0.4444444444444444, \"#bd3786\"], [0.5555555555555556, \"#d8576b\"], [0.6666666666666666, \"#ed7953\"], [0.7777777777777778, \"#fb9f3a\"], [0.8888888888888888, \"#fdca26\"], [1.0, \"#f0f921\"]], \"sequentialminus\": [[0.0, \"#0d0887\"], [0.1111111111111111, \"#46039f\"], [0.2222222222222222, \"#7201a8\"], [0.3333333333333333, \"#9c179e\"], [0.4444444444444444, \"#bd3786\"], [0.5555555555555556, \"#d8576b\"], [0.6666666666666666, \"#ed7953\"], [0.7777777777777778, \"#fb9f3a\"], [0.8888888888888888, \"#fdca26\"], [1.0, \"#f0f921\"]]}, \"colorway\": [\"#636efa\", \"#EF553B\", \"#00cc96\", \"#ab63fa\", \"#FFA15A\", \"#19d3f3\", \"#FF6692\", \"#B6E880\", \"#FF97FF\", \"#FECB52\"], \"font\": {\"color\": \"#2a3f5f\"}, \"geo\": {\"bgcolor\": \"white\", \"lakecolor\": \"white\", \"landcolor\": \"#E5ECF6\", \"showlakes\": true, \"showland\": true, \"subunitcolor\": \"white\"}, \"hoverlabel\": {\"align\": \"left\"}, \"hovermode\": \"closest\", \"mapbox\": {\"style\": \"light\"}, \"paper_bgcolor\": \"white\", \"plot_bgcolor\": \"#E5ECF6\", \"polar\": {\"angularaxis\": {\"gridcolor\": \"white\", \"linecolor\": \"white\", \"ticks\": \"\"}, \"bgcolor\": \"#E5ECF6\", \"radialaxis\": {\"gridcolor\": \"white\", \"linecolor\": \"white\", \"ticks\": \"\"}}, \"scene\": {\"xaxis\": {\"backgroundcolor\": \"#E5ECF6\", \"gridcolor\": \"white\", \"gridwidth\": 2, \"linecolor\": \"white\", \"showbackground\": true, \"ticks\": \"\", \"zerolinecolor\": \"white\"}, \"yaxis\": {\"backgroundcolor\": \"#E5ECF6\", \"gridcolor\": \"white\", \"gridwidth\": 2, \"linecolor\": \"white\", \"showbackground\": true, \"ticks\": \"\", \"zerolinecolor\": \"white\"}, \"zaxis\": {\"backgroundcolor\": \"#E5ECF6\", \"gridcolor\": \"white\", \"gridwidth\": 2, \"linecolor\": \"white\", \"showbackground\": true, \"ticks\": \"\", \"zerolinecolor\": \"white\"}}, \"shapedefaults\": {\"line\": {\"color\": \"#2a3f5f\"}}, \"ternary\": {\"aaxis\": {\"gridcolor\": \"white\", \"linecolor\": \"white\", \"ticks\": \"\"}, \"baxis\": {\"gridcolor\": \"white\", \"linecolor\": \"white\", \"ticks\": \"\"}, \"bgcolor\": \"#E5ECF6\", \"caxis\": {\"gridcolor\": \"white\", \"linecolor\": \"white\", \"ticks\": \"\"}}, \"title\": {\"x\": 0.05}, \"xaxis\": {\"automargin\": true, \"gridcolor\": \"white\", \"linecolor\": \"white\", \"ticks\": \"\", \"title\": {\"standoff\": 15}, \"zerolinecolor\": \"white\", \"zerolinewidth\": 2}, \"yaxis\": {\"automargin\": true, \"gridcolor\": \"white\", \"linecolor\": \"white\", \"ticks\": \"\", \"title\": {\"standoff\": 15}, \"zerolinecolor\": \"white\", \"zerolinewidth\": 2}}}, \"title\": {\"text\": \"Candlestick chart\"}, \"yaxis\": {\"title\": {\"text\": \"Price\"}}},\n",
       "                        {\"responsive\": true}\n",
       "                    ).then(function(){\n",
       "                            \n",
       "var gd = document.getElementById('e0fe6f05-f4df-4272-87d0-dbfd4046c232');\n",
       "var x = new MutationObserver(function (mutations, observer) {{\n",
       "        var display = window.getComputedStyle(gd).display;\n",
       "        if (!display || display === 'none') {{\n",
       "            console.log([gd, 'removed!']);\n",
       "            Plotly.purge(gd);\n",
       "            observer.disconnect();\n",
       "        }}\n",
       "}});\n",
       "\n",
       "// Listen for the removal of the full notebook cells\n",
       "var notebookContainer = gd.closest('#notebook-container');\n",
       "if (notebookContainer) {{\n",
       "    x.observe(notebookContainer, {childList: true});\n",
       "}}\n",
       "\n",
       "// Listen for the clearing of the current output cell\n",
       "var outputEl = gd.closest('.output');\n",
       "if (outputEl) {{\n",
       "    x.observe(outputEl, {childList: true});\n",
       "}}\n",
       "\n",
       "                        })\n",
       "                };\n",
       "                });\n",
       "            </script>\n",
       "        </div>"
      ]
     },
     "metadata": {},
     "output_type": "display_data"
    }
   ],
   "source": [
    "plot_candle(data_1)"
   ]
  },
  {
   "cell_type": "code",
   "execution_count": 436,
   "metadata": {},
   "outputs": [
    {
     "data": {
      "image/png": "[encoded data removed]",
      "text/plain": [
       "<Figure size 504x360 with 1 Axes>"
      ]
     },
     "metadata": {
      "needs_background": "light"
     },
     "output_type": "display_data"
    }
   ],
   "source": [
    "get_plot_RSI(data_1, 14, 1)"
   ]
  },
  {
   "cell_type": "markdown",
   "metadata": {},
   "source": [
    "## 2 stock (MOEX)"
   ]
  },
  {
   "cell_type": "code",
   "execution_count": 427,
   "metadata": {},
   "outputs": [
    {
     "data": {
      "text/html": [
       "<div>\n",
       "<style scoped>\n",
       "    .dataframe tbody tr th:only-of-type {\n",
       "        vertical-align: middle;\n",
       "    }\n",
       "\n",
       "    .dataframe tbody tr th {\n",
       "        vertical-align: top;\n",
       "    }\n",
       "\n",
       "    .dataframe thead th {\n",
       "        text-align: right;\n",
       "    }\n",
       "</style>\n",
       "<table border=\"1\" class=\"dataframe\">\n",
       "  <thead>\n",
       "    <tr style=\"text-align: right;\">\n",
       "      <th></th>\n",
       "      <th>BOARDID</th>\n",
       "      <th>TRADEDATE</th>\n",
       "      <th>SHORTNAME</th>\n",
       "      <th>SECID</th>\n",
       "      <th>NUMTRADES</th>\n",
       "      <th>VALUE</th>\n",
       "      <th>OPEN</th>\n",
       "      <th>LOW</th>\n",
       "      <th>HIGH</th>\n",
       "      <th>LEGALCLOSEPRICE</th>\n",
       "      <th>WAPRICE</th>\n",
       "      <th>CLOSE</th>\n",
       "      <th>VOLUME</th>\n",
       "      <th>MARKETPRICE2</th>\n",
       "      <th>MARKETPRICE3</th>\n",
       "      <th>ADMITTEDQUOTE</th>\n",
       "      <th>MP2VALTRD</th>\n",
       "      <th>MARKETPRICE3TRADESVALUE</th>\n",
       "      <th>ADMITTEDVALUE</th>\n",
       "      <th>WAVAL</th>\n",
       "    </tr>\n",
       "  </thead>\n",
       "  <tbody>\n",
       "    <tr>\n",
       "      <th>0</th>\n",
       "      <td>TQBR</td>\n",
       "      <td>2013-04-04</td>\n",
       "      <td>МосБиржа</td>\n",
       "      <td>MOEX</td>\n",
       "      <td>97</td>\n",
       "      <td>10148463.2</td>\n",
       "      <td>47.95</td>\n",
       "      <td>47.70</td>\n",
       "      <td>48.65</td>\n",
       "      <td>48.13</td>\n",
       "      <td>48.12</td>\n",
       "      <td>48.13</td>\n",
       "      <td>210880</td>\n",
       "      <td>48.18</td>\n",
       "      <td>48.18</td>\n",
       "      <td>48.18</td>\n",
       "      <td>18915589.9</td>\n",
       "      <td>18915589.9</td>\n",
       "      <td>18915589.9</td>\n",
       "      <td>None</td>\n",
       "    </tr>\n",
       "    <tr>\n",
       "      <th>1</th>\n",
       "      <td>TQBR</td>\n",
       "      <td>2013-04-05</td>\n",
       "      <td>МосБиржа</td>\n",
       "      <td>MOEX</td>\n",
       "      <td>146</td>\n",
       "      <td>16698661.4</td>\n",
       "      <td>48.15</td>\n",
       "      <td>47.47</td>\n",
       "      <td>48.76</td>\n",
       "      <td>48.13</td>\n",
       "      <td>48.29</td>\n",
       "      <td>47.69</td>\n",
       "      <td>345780</td>\n",
       "      <td>48.25</td>\n",
       "      <td>48.25</td>\n",
       "      <td>48.25</td>\n",
       "      <td>22663226.9</td>\n",
       "      <td>22663226.9</td>\n",
       "      <td>22663226.9</td>\n",
       "      <td>None</td>\n",
       "    </tr>\n",
       "    <tr>\n",
       "      <th>2</th>\n",
       "      <td>TQBR</td>\n",
       "      <td>2013-04-08</td>\n",
       "      <td>МосБиржа</td>\n",
       "      <td>MOEX</td>\n",
       "      <td>101</td>\n",
       "      <td>10889442.1</td>\n",
       "      <td>48.07</td>\n",
       "      <td>47.51</td>\n",
       "      <td>48.08</td>\n",
       "      <td>47.52</td>\n",
       "      <td>47.79</td>\n",
       "      <td>47.54</td>\n",
       "      <td>227840</td>\n",
       "      <td>47.79</td>\n",
       "      <td>47.79</td>\n",
       "      <td>47.79</td>\n",
       "      <td>16169507.6</td>\n",
       "      <td>16169507.6</td>\n",
       "      <td>16169507.6</td>\n",
       "      <td>None</td>\n",
       "    </tr>\n",
       "    <tr>\n",
       "      <th>3</th>\n",
       "      <td>TQBR</td>\n",
       "      <td>2013-04-09</td>\n",
       "      <td>МосБиржа</td>\n",
       "      <td>MOEX</td>\n",
       "      <td>170</td>\n",
       "      <td>20233800.0</td>\n",
       "      <td>47.61</td>\n",
       "      <td>47.42</td>\n",
       "      <td>47.80</td>\n",
       "      <td>47.45</td>\n",
       "      <td>47.61</td>\n",
       "      <td>47.48</td>\n",
       "      <td>425000</td>\n",
       "      <td>47.60</td>\n",
       "      <td>47.60</td>\n",
       "      <td>47.60</td>\n",
       "      <td>30226869.9</td>\n",
       "      <td>30226869.9</td>\n",
       "      <td>30226869.9</td>\n",
       "      <td>None</td>\n",
       "    </tr>\n",
       "    <tr>\n",
       "      <th>4</th>\n",
       "      <td>TQBR</td>\n",
       "      <td>2013-04-10</td>\n",
       "      <td>МосБиржа</td>\n",
       "      <td>MOEX</td>\n",
       "      <td>57</td>\n",
       "      <td>6624780.0</td>\n",
       "      <td>47.37</td>\n",
       "      <td>46.96</td>\n",
       "      <td>47.44</td>\n",
       "      <td>46.88</td>\n",
       "      <td>47.29</td>\n",
       "      <td>46.96</td>\n",
       "      <td>140100</td>\n",
       "      <td>47.25</td>\n",
       "      <td>47.25</td>\n",
       "      <td>47.25</td>\n",
       "      <td>26661295.1</td>\n",
       "      <td>26661295.1</td>\n",
       "      <td>26661295.1</td>\n",
       "      <td>None</td>\n",
       "    </tr>\n",
       "  </tbody>\n",
       "</table>\n",
       "</div>"
      ],
      "text/plain": [
       "  BOARDID   TRADEDATE SHORTNAME SECID  NUMTRADES       VALUE   OPEN    LOW  \\\n",
       "0    TQBR  2013-04-04  МосБиржа  MOEX         97  10148463.2  47.95  47.70   \n",
       "1    TQBR  2013-04-05  МосБиржа  MOEX        146  16698661.4  48.15  47.47   \n",
       "2    TQBR  2013-04-08  МосБиржа  MOEX        101  10889442.1  48.07  47.51   \n",
       "3    TQBR  2013-04-09  МосБиржа  MOEX        170  20233800.0  47.61  47.42   \n",
       "4    TQBR  2013-04-10  МосБиржа  MOEX         57   6624780.0  47.37  46.96   \n",
       "\n",
       "    HIGH  LEGALCLOSEPRICE  WAPRICE  CLOSE  VOLUME  MARKETPRICE2  MARKETPRICE3  \\\n",
       "0  48.65            48.13    48.12  48.13  210880         48.18         48.18   \n",
       "1  48.76            48.13    48.29  47.69  345780         48.25         48.25   \n",
       "2  48.08            47.52    47.79  47.54  227840         47.79         47.79   \n",
       "3  47.80            47.45    47.61  47.48  425000         47.60         47.60   \n",
       "4  47.44            46.88    47.29  46.96  140100         47.25         47.25   \n",
       "\n",
       "   ADMITTEDQUOTE   MP2VALTRD  MARKETPRICE3TRADESVALUE  ADMITTEDVALUE WAVAL  \n",
       "0          48.18  18915589.9               18915589.9     18915589.9  None  \n",
       "1          48.25  22663226.9               22663226.9     22663226.9  None  \n",
       "2          47.79  16169507.6               16169507.6     16169507.6  None  \n",
       "3          47.60  30226869.9               30226869.9     30226869.9  None  \n",
       "4          47.25  26661295.1               26661295.1     26661295.1  None  "
      ]
     },
     "execution_count": 427,
     "metadata": {},
     "output_type": "execute_result"
    }
   ],
   "source": [
    "company = \"MOEX\"\n",
    "# If you have no idea, what are the ticket names, you can choose random number below and work with the ticket\n",
    "# company = choose_stock_numb(31)\n",
    "\n",
    "data_2 = get_data_request(\"2013-01-01\",0, \"stock\", \"shares\", \"TQBR\", company)\n",
    "data_2.head()"
   ]
  },
  {
   "cell_type": "markdown",
   "metadata": {},
   "source": [
    "##  Low-High and Open-Close plot"
   ]
  },
  {
   "cell_type": "code",
   "execution_count": 428,
   "metadata": {},
   "outputs": [
    {
     "data": {
      "image/png": "[encoded data removed]",
      "text/plain": [
       "<Figure size 504x360 with 1 Axes>"
      ]
     },
     "metadata": {
      "needs_background": "light"
     },
     "output_type": "display_data"
    }
   ],
   "source": [
    "plot_low_high(data_2)"
   ]
  },
  {
   "cell_type": "markdown",
   "metadata": {},
   "source": [
    "### Comment:\n",
    "text"
   ]
  },
  {
   "cell_type": "code",
   "execution_count": 429,
   "metadata": {},
   "outputs": [
    {
     "data": {
      "image/png": "[encoded data removed]",
      "text/plain": [
       "<Figure size 504x360 with 1 Axes>"
      ]
     },
     "metadata": {
      "needs_background": "light"
     },
     "output_type": "display_data"
    }
   ],
   "source": [
    "plot_open_close(data_2)"
   ]
  },
  {
   "cell_type": "markdown",
   "metadata": {},
   "source": [
    "### Comment:\n",
    "text"
   ]
  },
  {
   "cell_type": "markdown",
   "metadata": {},
   "source": [
    "## SMA (Moving average) 200, 50"
   ]
  },
  {
   "cell_type": "code",
   "execution_count": 425,
   "metadata": {},
   "outputs": [
    {
     "name": "stdout",
     "output_type": "stream",
     "text": [
      "SMA 200\n"
     ]
    },
    {
     "data": {
      "image/png": "[encoded data removed]",
      "text/plain": [
       "<Figure size 504x360 with 1 Axes>"
      ]
     },
     "metadata": {
      "needs_background": "light"
     },
     "output_type": "display_data"
    },
    {
     "data": {
      "image/png": "[encoded data removed]",
      "text/plain": [
       "<Figure size 504x72 with 1 Axes>"
      ]
     },
     "metadata": {
      "needs_background": "light"
     },
     "output_type": "display_data"
    },
    {
     "name": "stdout",
     "output_type": "stream",
     "text": [
      "SMA 50\n"
     ]
    },
    {
     "data": {
      "image/png": "[encoded data removed]",
      "text/plain": [
       "<Figure size 504x360 with 1 Axes>"
      ]
     },
     "metadata": {
      "needs_background": "light"
     },
     "output_type": "display_data"
    }
   ],
   "source": [
    "print(\"SMA 200\")\n",
    "plot_mov_av(data_2, 200, 1)\n",
    "print(\"SMA 50\")\n",
    "plot_mov_av(data_2, 50, 0)"
   ]
  },
  {
   "cell_type": "markdown",
   "metadata": {},
   "source": [
    "### Comment:\n",
    "text"
   ]
  },
  {
   "cell_type": "markdown",
   "metadata": {},
   "source": [
    "## Candle chart"
   ]
  },
  {
   "cell_type": "code",
   "execution_count": 306,
   "metadata": {},
   "outputs": [
    {
     "data": {
      "application/vnd.plotly.v1+json": {
       "config": {
        "plotlyServerURL": "https://plot.ly"
       },
       "data": [
        {
         "close": [
          48.13,
          48.13,
          47.52,
          47.45,
          46.88,
          45.86,
          45.49,
          45.62,
          43.46,
          43.28,
          43,
          43.5,
          43.54,
          44,
          44.42,
          44.19,
          44.61,
          44.56,
          44.71,
          44.4,
          44.86,
          46.11,
          47.55,
          48.79,
          48.7,
          49.19,
          49.85,
          49.84,
          50.1,
          50.08,
          50.95,
          51.36,
          54.99,
          53.57,
          53.19,
          53.13,
          53.9,
          53.52,
          53.5,
          54.97,
          52.65,
          52.65,
          52.5,
          53.04,
          53.51,
          53.5,
          52.2,
          51.68,
          51.57,
          52.73,
          52.62,
          52.58,
          51.44,
          50.23,
          51.22,
          52,
          52.54,
          52.83,
          54.26,
          53.88,
          54.04,
          53.73,
          53.84,
          53.86,
          54.02,
          53.65,
          53.19,
          54.05,
          53.87,
          53.95,
          53.91,
          54.02,
          53.98,
          53.87,
          53.9,
          53.97,
          54.24,
          54.02,
          54.41,
          55.28,
          56.08,
          56.24,
          60.12,
          59,
          59.44,
          56.16,
          55.81,
          56.39,
          56.16,
          56.01,
          56.8,
          56.97,
          56.33,
          56.18,
          56.26,
          56,
          56.22,
          57.09,
          57.12,
          57.28
         ],
         "high": [
          48.65,
          48.76,
          48.08,
          47.8,
          47.44,
          47.13,
          45.88,
          46.21,
          45.43,
          43.76,
          43.54,
          43.47,
          43.85,
          43.97,
          44.53,
          44.64,
          44.92,
          44.76,
          49.04,
          44.59,
          44.8,
          46.8,
          47.2,
          48.7,
          49.13,
          49.1,
          49.25,
          50.26,
          50.27,
          50.12,
          49.21,
          51.53,
          54.2,
          53.94,
          53.94,
          53.44,
          53.99,
          53.88,
          53.52,
          53.77,
          53.61,
          53.16,
          52.73,
          54.67,
          53.73,
          53.64,
          53.61,
          52.15,
          52.03,
          54.12,
          52.86,
          53.05,
          52.13,
          51.16,
          51.76,
          52.3,
          52.64,
          53.11,
          54.03,
          55,
          53.93,
          53.89,
          53.89,
          53.87,
          53.94,
          53.97,
          53.49,
          54.04,
          54.2,
          54.01,
          54.01,
          53.99,
          54.12,
          54.68,
          54.04,
          54.48,
          54.24,
          54.25,
          54.24,
          55.08,
          56.17,
          56.29,
          59.25,
          61.89,
          59.96,
          59.79,
          56.32,
          56,
          56.17,
          56.24,
          57.08,
          57.27,
          57.18,
          56.4,
          56.31,
          56.32,
          56.23,
          57.09,
          57.67,
          57.29
         ],
         "low": [
          47.7,
          47.47,
          47.51,
          47.42,
          46.96,
          45.73,
          45.39,
          45.53,
          42.65,
          43.22,
          42.62,
          43.03,
          43.53,
          43.66,
          44.09,
          44.13,
          44.32,
          44.44,
          44,
          44.29,
          44.26,
          45,
          46.2,
          47.2,
          47.8,
          48.74,
          48.76,
          49.53,
          49.95,
          49.3,
          48.47,
          50.26,
          51.44,
          53.55,
          53.25,
          52.97,
          53.31,
          52.9,
          53.05,
          53.64,
          52.85,
          52.31,
          52.44,
          52.57,
          53,
          53.46,
          52.49,
          51.96,
          51.14,
          51.43,
          52.7,
          51.93,
          51.06,
          49.86,
          49.98,
          51.36,
          51.68,
          52.22,
          52.98,
          53.39,
          53.56,
          53.41,
          53.54,
          53.6,
          53.59,
          53.19,
          53.04,
          53.56,
          53.88,
          53.94,
          53.92,
          53.92,
          53.9,
          53.75,
          53.75,
          53.9,
          53.95,
          53.97,
          54.05,
          54.28,
          55.42,
          56.01,
          56.23,
          58.34,
          58.83,
          55.48,
          55,
          55.79,
          55.91,
          55.9,
          56.01,
          56.8,
          56.11,
          55.4,
          55.97,
          55.99,
          55.98,
          56.2,
          56.8,
          56.99
         ],
         "open": [
          47.95,
          48.15,
          48.07,
          47.61,
          47.37,
          47,
          45.79,
          45.73,
          45.39,
          43.54,
          43.28,
          43.27,
          43.82,
          43.66,
          44.09,
          44.57,
          44.37,
          44.69,
          44.6,
          44.5,
          44.36,
          45,
          46.2,
          47.6,
          47.8,
          48.84,
          48.76,
          50.08,
          49.97,
          50.12,
          49.2,
          50.74,
          51.44,
          53.6,
          53.93,
          53.44,
          53.31,
          52.9,
          53.39,
          53.71,
          53.51,
          52.81,
          52.73,
          52.63,
          53.09,
          53.6,
          53.04,
          51.96,
          52,
          51.68,
          52.81,
          52.88,
          52.1,
          50.92,
          50.33,
          51.39,
          51.89,
          52.57,
          52.98,
          53.42,
          53.72,
          53.88,
          53.8,
          53.78,
          53.76,
          53.97,
          53.47,
          53.72,
          53.92,
          53.97,
          53.95,
          53.94,
          54.02,
          54.16,
          54,
          53.98,
          54.06,
          54.15,
          54.1,
          54.28,
          55.42,
          56.1,
          56.23,
          60.83,
          59.05,
          59.45,
          56.09,
          55.94,
          55.94,
          56.13,
          56.01,
          56.84,
          57.05,
          56.28,
          56.21,
          56.3,
          56.09,
          56.27,
          56.83,
          57.13
         ],
         "type": "candlestick",
         "x": [
          "2013-04-04",
          "2013-04-05",
          "2013-04-08",
          "2013-04-09",
          "2013-04-10",
          "2013-04-11",
          "2013-04-12",
          "2013-04-15",
          "2013-04-16",
          "2013-04-17",
          "2013-04-18",
          "2013-04-19",
          "2013-04-22",
          "2013-04-23",
          "2013-04-24",
          "2013-04-25",
          "2013-04-26",
          "2013-04-29",
          "2013-04-30",
          "2013-05-02",
          "2013-05-03",
          "2013-05-06",
          "2013-05-07",
          "2013-05-08",
          "2013-05-10",
          "2013-05-13",
          "2013-05-14",
          "2013-05-15",
          "2013-05-16",
          "2013-05-17",
          "2013-05-20",
          "2013-05-21",
          "2013-05-22",
          "2013-05-23",
          "2013-05-24",
          "2013-05-27",
          "2013-05-28",
          "2013-05-29",
          "2013-05-30",
          "2013-05-31",
          "2013-06-03",
          "2013-06-04",
          "2013-06-05",
          "2013-06-06",
          "2013-06-07",
          "2013-06-10",
          "2013-06-11",
          "2013-06-13",
          "2013-06-14",
          "2013-06-17",
          "2013-06-18",
          "2013-06-19",
          "2013-06-20",
          "2013-06-21",
          "2013-06-24",
          "2013-06-25",
          "2013-06-26",
          "2013-06-27",
          "2013-06-28",
          "2013-07-01",
          "2013-07-02",
          "2013-07-03",
          "2013-07-04",
          "2013-07-05",
          "2013-07-08",
          "2013-07-09",
          "2013-07-10",
          "2013-07-11",
          "2013-07-12",
          "2013-07-15",
          "2013-07-16",
          "2013-07-17",
          "2013-07-18",
          "2013-07-19",
          "2013-07-22",
          "2013-07-23",
          "2013-07-24",
          "2013-07-25",
          "2013-07-26",
          "2013-07-29",
          "2013-07-30",
          "2013-07-31",
          "2013-08-01",
          "2013-08-02",
          "2013-08-05",
          "2013-08-06",
          "2013-08-07",
          "2013-08-08",
          "2013-08-09",
          "2013-08-12",
          "2013-08-13",
          "2013-08-14",
          "2013-08-15",
          "2013-08-16",
          "2013-08-19",
          "2013-08-20",
          "2013-08-21",
          "2013-08-22",
          "2013-08-23",
          "2013-08-26"
         ]
        }
       ],
       "layout": {
        "template": {
         "data": {
          "bar": [
           {
            "error_x": {
             "color": "#2a3f5f"
            },
            "error_y": {
             "color": "#2a3f5f"
            },
            "marker": {
             "line": {
              "color": "#E5ECF6",
              "width": 0.5
             }
            },
            "type": "bar"
           }
          ],
          "barpolar": [
           {
            "marker": {
             "line": {
              "color": "#E5ECF6",
              "width": 0.5
             }
            },
            "type": "barpolar"
           }
          ],
          "carpet": [
           {
            "aaxis": {
             "endlinecolor": "#2a3f5f",
             "gridcolor": "white",
             "linecolor": "white",
             "minorgridcolor": "white",
             "startlinecolor": "#2a3f5f"
            },
            "baxis": {
             "endlinecolor": "#2a3f5f",
             "gridcolor": "white",
             "linecolor": "white",
             "minorgridcolor": "white",
             "startlinecolor": "#2a3f5f"
            },
            "type": "carpet"
           }
          ],
          "choropleth": [
           {
            "colorbar": {
             "outlinewidth": 0,
             "ticks": ""
            },
            "type": "choropleth"
           }
          ],
          "contour": [
           {
            "colorbar": {
             "outlinewidth": 0,
             "ticks": ""
            },
            "colorscale": [
             [
              0,
              "#0d0887"
             ],
             [
              0.1111111111111111,
              "#46039f"
             ],
             [
              0.2222222222222222,
              "#7201a8"
             ],
             [
              0.3333333333333333,
              "#9c179e"
             ],
             [
              0.4444444444444444,
              "#bd3786"
             ],
             [
              0.5555555555555556,
              "#d8576b"
             ],
             [
              0.6666666666666666,
              "#ed7953"
             ],
             [
              0.7777777777777778,
              "#fb9f3a"
             ],
             [
              0.8888888888888888,
              "#fdca26"
             ],
             [
              1,
              "#f0f921"
             ]
            ],
            "type": "contour"
           }
          ],
          "contourcarpet": [
           {
            "colorbar": {
             "outlinewidth": 0,
             "ticks": ""
            },
            "type": "contourcarpet"
           }
          ],
          "heatmap": [
           {
            "colorbar": {
             "outlinewidth": 0,
             "ticks": ""
            },
            "colorscale": [
             [
              0,
              "#0d0887"
             ],
             [
              0.1111111111111111,
              "#46039f"
             ],
             [
              0.2222222222222222,
              "#7201a8"
             ],
             [
              0.3333333333333333,
              "#9c179e"
             ],
             [
              0.4444444444444444,
              "#bd3786"
             ],
             [
              0.5555555555555556,
              "#d8576b"
             ],
             [
              0.6666666666666666,
              "#ed7953"
             ],
             [
              0.7777777777777778,
              "#fb9f3a"
             ],
             [
              0.8888888888888888,
              "#fdca26"
             ],
             [
              1,
              "#f0f921"
             ]
            ],
            "type": "heatmap"
           }
          ],
          "heatmapgl": [
           {
            "colorbar": {
             "outlinewidth": 0,
             "ticks": ""
            },
            "colorscale": [
             [
              0,
              "#0d0887"
             ],
             [
              0.1111111111111111,
              "#46039f"
             ],
             [
              0.2222222222222222,
              "#7201a8"
             ],
             [
              0.3333333333333333,
              "#9c179e"
             ],
             [
              0.4444444444444444,
              "#bd3786"
             ],
             [
              0.5555555555555556,
              "#d8576b"
             ],
             [
              0.6666666666666666,
              "#ed7953"
             ],
             [
              0.7777777777777778,
              "#fb9f3a"
             ],
             [
              0.8888888888888888,
              "#fdca26"
             ],
             [
              1,
              "#f0f921"
             ]
            ],
            "type": "heatmapgl"
           }
          ],
          "histogram": [
           {
            "marker": {
             "colorbar": {
              "outlinewidth": 0,
              "ticks": ""
             }
            },
            "type": "histogram"
           }
          ],
          "histogram2d": [
           {
            "colorbar": {
             "outlinewidth": 0,
             "ticks": ""
            },
            "colorscale": [
             [
              0,
              "#0d0887"
             ],
             [
              0.1111111111111111,
              "#46039f"
             ],
             [
              0.2222222222222222,
              "#7201a8"
             ],
             [
              0.3333333333333333,
              "#9c179e"
             ],
             [
              0.4444444444444444,
              "#bd3786"
             ],
             [
              0.5555555555555556,
              "#d8576b"
             ],
             [
              0.6666666666666666,
              "#ed7953"
             ],
             [
              0.7777777777777778,
              "#fb9f3a"
             ],
             [
              0.8888888888888888,
              "#fdca26"
             ],
             [
              1,
              "#f0f921"
             ]
            ],
            "type": "histogram2d"
           }
          ],
          "histogram2dcontour": [
           {
            "colorbar": {
             "outlinewidth": 0,
             "ticks": ""
            },
            "colorscale": [
             [
              0,
              "#0d0887"
             ],
             [
              0.1111111111111111,
              "#46039f"
             ],
             [
              0.2222222222222222,
              "#7201a8"
             ],
             [
              0.3333333333333333,
              "#9c179e"
             ],
             [
              0.4444444444444444,
              "#bd3786"
             ],
             [
              0.5555555555555556,
              "#d8576b"
             ],
             [
              0.6666666666666666,
              "#ed7953"
             ],
             [
              0.7777777777777778,
              "#fb9f3a"
             ],
             [
              0.8888888888888888,
              "#fdca26"
             ],
             [
              1,
              "#f0f921"
             ]
            ],
            "type": "histogram2dcontour"
           }
          ],
          "mesh3d": [
           {
            "colorbar": {
             "outlinewidth": 0,
             "ticks": ""
            },
            "type": "mesh3d"
           }
          ],
          "parcoords": [
           {
            "line": {
             "colorbar": {
              "outlinewidth": 0,
              "ticks": ""
             }
            },
            "type": "parcoords"
           }
          ],
          "pie": [
           {
            "automargin": true,
            "type": "pie"
           }
          ],
          "scatter": [
           {
            "marker": {
             "colorbar": {
              "outlinewidth": 0,
              "ticks": ""
             }
            },
            "type": "scatter"
           }
          ],
          "scatter3d": [
           {
            "line": {
             "colorbar": {
              "outlinewidth": 0,
              "ticks": ""
             }
            },
            "marker": {
             "colorbar": {
              "outlinewidth": 0,
              "ticks": ""
             }
            },
            "type": "scatter3d"
           }
          ],
          "scattercarpet": [
           {
            "marker": {
             "colorbar": {
              "outlinewidth": 0,
              "ticks": ""
             }
            },
            "type": "scattercarpet"
           }
          ],
          "scattergeo": [
           {
            "marker": {
             "colorbar": {
              "outlinewidth": 0,
              "ticks": ""
             }
            },
            "type": "scattergeo"
           }
          ],
          "scattergl": [
           {
            "marker": {
             "colorbar": {
              "outlinewidth": 0,
              "ticks": ""
             }
            },
            "type": "scattergl"
           }
          ],
          "scattermapbox": [
           {
            "marker": {
             "colorbar": {
              "outlinewidth": 0,
              "ticks": ""
             }
            },
            "type": "scattermapbox"
           }
          ],
          "scatterpolar": [
           {
            "marker": {
             "colorbar": {
              "outlinewidth": 0,
              "ticks": ""
             }
            },
            "type": "scatterpolar"
           }
          ],
          "scatterpolargl": [
           {
            "marker": {
             "colorbar": {
              "outlinewidth": 0,
              "ticks": ""
             }
            },
            "type": "scatterpolargl"
           }
          ],
          "scatterternary": [
           {
            "marker": {
             "colorbar": {
              "outlinewidth": 0,
              "ticks": ""
             }
            },
            "type": "scatterternary"
           }
          ],
          "surface": [
           {
            "colorbar": {
             "outlinewidth": 0,
             "ticks": ""
            },
            "colorscale": [
             [
              0,
              "#0d0887"
             ],
             [
              0.1111111111111111,
              "#46039f"
             ],
             [
              0.2222222222222222,
              "#7201a8"
             ],
             [
              0.3333333333333333,
              "#9c179e"
             ],
             [
              0.4444444444444444,
              "#bd3786"
             ],
             [
              0.5555555555555556,
              "#d8576b"
             ],
             [
              0.6666666666666666,
              "#ed7953"
             ],
             [
              0.7777777777777778,
              "#fb9f3a"
             ],
             [
              0.8888888888888888,
              "#fdca26"
             ],
             [
              1,
              "#f0f921"
             ]
            ],
            "type": "surface"
           }
          ],
          "table": [
           {
            "cells": {
             "fill": {
              "color": "#EBF0F8"
             },
             "line": {
              "color": "white"
             }
            },
            "header": {
             "fill": {
              "color": "#C8D4E3"
             },
             "line": {
              "color": "white"
             }
            },
            "type": "table"
           }
          ]
         },
         "layout": {
          "annotationdefaults": {
           "arrowcolor": "#2a3f5f",
           "arrowhead": 0,
           "arrowwidth": 1
          },
          "coloraxis": {
           "colorbar": {
            "outlinewidth": 0,
            "ticks": ""
           }
          },
          "colorscale": {
           "diverging": [
            [
             0,
             "#8e0152"
            ],
            [
             0.1,
             "#c51b7d"
            ],
            [
             0.2,
             "#de77ae"
            ],
            [
             0.3,
             "#f1b6da"
            ],
            [
             0.4,
             "#fde0ef"
            ],
            [
             0.5,
             "#f7f7f7"
            ],
            [
             0.6,
             "#e6f5d0"
            ],
            [
             0.7,
             "#b8e186"
            ],
            [
             0.8,
             "#7fbc41"
            ],
            [
             0.9,
             "#4d9221"
            ],
            [
             1,
             "#276419"
            ]
           ],
           "sequential": [
            [
             0,
             "#0d0887"
            ],
            [
             0.1111111111111111,
             "#46039f"
            ],
            [
             0.2222222222222222,
             "#7201a8"
            ],
            [
             0.3333333333333333,
             "#9c179e"
            ],
            [
             0.4444444444444444,
             "#bd3786"
            ],
            [
             0.5555555555555556,
             "#d8576b"
            ],
            [
             0.6666666666666666,
             "#ed7953"
            ],
            [
             0.7777777777777778,
             "#fb9f3a"
            ],
            [
             0.8888888888888888,
             "#fdca26"
            ],
            [
             1,
             "#f0f921"
            ]
           ],
           "sequentialminus": [
            [
             0,
             "#0d0887"
            ],
            [
             0.1111111111111111,
             "#46039f"
            ],
            [
             0.2222222222222222,
             "#7201a8"
            ],
            [
             0.3333333333333333,
             "#9c179e"
            ],
            [
             0.4444444444444444,
             "#bd3786"
            ],
            [
             0.5555555555555556,
             "#d8576b"
            ],
            [
             0.6666666666666666,
             "#ed7953"
            ],
            [
             0.7777777777777778,
             "#fb9f3a"
            ],
            [
             0.8888888888888888,
             "#fdca26"
            ],
            [
             1,
             "#f0f921"
            ]
           ]
          },
          "colorway": [
           "#636efa",
           "#EF553B",
           "#00cc96",
           "#ab63fa",
           "#FFA15A",
           "#19d3f3",
           "#FF6692",
           "#B6E880",
           "#FF97FF",
           "#FECB52"
          ],
          "font": {
           "color": "#2a3f5f"
          },
          "geo": {
           "bgcolor": "white",
           "lakecolor": "white",
           "landcolor": "#E5ECF6",
           "showlakes": true,
           "showland": true,
           "subunitcolor": "white"
          },
          "hoverlabel": {
           "align": "left"
          },
          "hovermode": "closest",
          "mapbox": {
           "style": "light"
          },
          "paper_bgcolor": "white",
          "plot_bgcolor": "#E5ECF6",
          "polar": {
           "angularaxis": {
            "gridcolor": "white",
            "linecolor": "white",
            "ticks": ""
           },
           "bgcolor": "#E5ECF6",
           "radialaxis": {
            "gridcolor": "white",
            "linecolor": "white",
            "ticks": ""
           }
          },
          "scene": {
           "xaxis": {
            "backgroundcolor": "#E5ECF6",
            "gridcolor": "white",
            "gridwidth": 2,
            "linecolor": "white",
            "showbackground": true,
            "ticks": "",
            "zerolinecolor": "white"
           },
           "yaxis": {
            "backgroundcolor": "#E5ECF6",
            "gridcolor": "white",
            "gridwidth": 2,
            "linecolor": "white",
            "showbackground": true,
            "ticks": "",
            "zerolinecolor": "white"
           },
           "zaxis": {
            "backgroundcolor": "#E5ECF6",
            "gridcolor": "white",
            "gridwidth": 2,
            "linecolor": "white",
            "showbackground": true,
            "ticks": "",
            "zerolinecolor": "white"
           }
          },
          "shapedefaults": {
           "line": {
            "color": "#2a3f5f"
           }
          },
          "ternary": {
           "aaxis": {
            "gridcolor": "white",
            "linecolor": "white",
            "ticks": ""
           },
           "baxis": {
            "gridcolor": "white",
            "linecolor": "white",
            "ticks": ""
           },
           "bgcolor": "#E5ECF6",
           "caxis": {
            "gridcolor": "white",
            "linecolor": "white",
            "ticks": ""
           }
          },
          "title": {
           "x": 0.05
          },
          "xaxis": {
           "automargin": true,
           "gridcolor": "white",
           "linecolor": "white",
           "ticks": "",
           "title": {
            "standoff": 15
           },
           "zerolinecolor": "white",
           "zerolinewidth": 2
          },
          "yaxis": {
           "automargin": true,
           "gridcolor": "white",
           "linecolor": "white",
           "ticks": "",
           "title": {
            "standoff": 15
           },
           "zerolinecolor": "white",
           "zerolinewidth": 2
          }
         }
        },
        "title": {
         "text": "Candlestick chart"
        },
        "yaxis": {
         "title": {
          "text": "Price"
         }
        }
       }
      },
      "text/html": [
       "<div>\n",
       "        \n",
       "        \n",
       "            <div id=\"df90954b-1efd-4ea5-89e7-6298e1c9f520\" class=\"plotly-graph-div\" style=\"height:525px; width:100%;\"></div>\n",
       "            <script type=\"text/javascript\">\n",
       "                require([\"plotly\"], function(Plotly) {\n",
       "                    window.PLOTLYENV=window.PLOTLYENV || {};\n",
       "                    \n",
       "                if (document.getElementById(\"df90954b-1efd-4ea5-89e7-6298e1c9f520\")) {\n",
       "                    Plotly.newPlot(\n",
       "                        'df90954b-1efd-4ea5-89e7-6298e1c9f520',\n",
       "                        [{\"close\": [48.13, 48.13, 47.52, 47.45, 46.88, 45.86, 45.49, 45.62, 43.46, 43.28, 43.0, 43.5, 43.54, 44.0, 44.42, 44.19, 44.61, 44.56, 44.71, 44.4, 44.86, 46.11, 47.55, 48.79, 48.7, 49.19, 49.85, 49.84, 50.1, 50.08, 50.95, 51.36, 54.99, 53.57, 53.19, 53.13, 53.9, 53.52, 53.5, 54.97, 52.65, 52.65, 52.5, 53.04, 53.51, 53.5, 52.2, 51.68, 51.57, 52.73, 52.62, 52.58, 51.44, 50.23, 51.22, 52.0, 52.54, 52.83, 54.26, 53.88, 54.04, 53.73, 53.84, 53.86, 54.02, 53.65, 53.19, 54.05, 53.87, 53.95, 53.91, 54.02, 53.98, 53.87, 53.9, 53.97, 54.24, 54.02, 54.41, 55.28, 56.08, 56.24, 60.12, 59.0, 59.44, 56.16, 55.81, 56.39, 56.16, 56.01, 56.8, 56.97, 56.33, 56.18, 56.26, 56.0, 56.22, 57.09, 57.12, 57.28], \"high\": [48.65, 48.76, 48.08, 47.8, 47.44, 47.13, 45.88, 46.21, 45.43, 43.76, 43.54, 43.47, 43.85, 43.97, 44.53, 44.64, 44.92, 44.76, 49.04, 44.59, 44.8, 46.8, 47.2, 48.7, 49.13, 49.1, 49.25, 50.26, 50.27, 50.12, 49.21, 51.53, 54.2, 53.94, 53.94, 53.44, 53.99, 53.88, 53.52, 53.77, 53.61, 53.16, 52.73, 54.67, 53.73, 53.64, 53.61, 52.15, 52.03, 54.12, 52.86, 53.05, 52.13, 51.16, 51.76, 52.3, 52.64, 53.11, 54.03, 55.0, 53.93, 53.89, 53.89, 53.87, 53.94, 53.97, 53.49, 54.04, 54.2, 54.01, 54.01, 53.99, 54.12, 54.68, 54.04, 54.48, 54.24, 54.25, 54.24, 55.08, 56.17, 56.29, 59.25, 61.89, 59.96, 59.79, 56.32, 56.0, 56.17, 56.24, 57.08, 57.27, 57.18, 56.4, 56.31, 56.32, 56.23, 57.09, 57.67, 57.29], \"low\": [47.7, 47.47, 47.51, 47.42, 46.96, 45.73, 45.39, 45.53, 42.65, 43.22, 42.62, 43.03, 43.53, 43.66, 44.09, 44.13, 44.32, 44.44, 44.0, 44.29, 44.26, 45.0, 46.2, 47.2, 47.8, 48.74, 48.76, 49.53, 49.95, 49.3, 48.47, 50.26, 51.44, 53.55, 53.25, 52.97, 53.31, 52.9, 53.05, 53.64, 52.85, 52.31, 52.44, 52.57, 53.0, 53.46, 52.49, 51.96, 51.14, 51.43, 52.7, 51.93, 51.06, 49.86, 49.98, 51.36, 51.68, 52.22, 52.98, 53.39, 53.56, 53.41, 53.54, 53.6, 53.59, 53.19, 53.04, 53.56, 53.88, 53.94, 53.92, 53.92, 53.9, 53.75, 53.75, 53.9, 53.95, 53.97, 54.05, 54.28, 55.42, 56.01, 56.23, 58.34, 58.83, 55.48, 55.0, 55.79, 55.91, 55.9, 56.01, 56.8, 56.11, 55.4, 55.97, 55.99, 55.98, 56.2, 56.8, 56.99], \"open\": [47.95, 48.15, 48.07, 47.61, 47.37, 47.0, 45.79, 45.73, 45.39, 43.54, 43.28, 43.27, 43.82, 43.66, 44.09, 44.57, 44.37, 44.69, 44.6, 44.5, 44.36, 45.0, 46.2, 47.6, 47.8, 48.84, 48.76, 50.08, 49.97, 50.12, 49.2, 50.74, 51.44, 53.6, 53.93, 53.44, 53.31, 52.9, 53.39, 53.71, 53.51, 52.81, 52.73, 52.63, 53.09, 53.6, 53.04, 51.96, 52.0, 51.68, 52.81, 52.88, 52.1, 50.92, 50.33, 51.39, 51.89, 52.57, 52.98, 53.42, 53.72, 53.88, 53.8, 53.78, 53.76, 53.97, 53.47, 53.72, 53.92, 53.97, 53.95, 53.94, 54.02, 54.16, 54.0, 53.98, 54.06, 54.15, 54.1, 54.28, 55.42, 56.1, 56.23, 60.83, 59.05, 59.45, 56.09, 55.94, 55.94, 56.13, 56.01, 56.84, 57.05, 56.28, 56.21, 56.3, 56.09, 56.27, 56.83, 57.13], \"type\": \"candlestick\", \"x\": [\"2013-04-04\", \"2013-04-05\", \"2013-04-08\", \"2013-04-09\", \"2013-04-10\", \"2013-04-11\", \"2013-04-12\", \"2013-04-15\", \"2013-04-16\", \"2013-04-17\", \"2013-04-18\", \"2013-04-19\", \"2013-04-22\", \"2013-04-23\", \"2013-04-24\", \"2013-04-25\", \"2013-04-26\", \"2013-04-29\", \"2013-04-30\", \"2013-05-02\", \"2013-05-03\", \"2013-05-06\", \"2013-05-07\", \"2013-05-08\", \"2013-05-10\", \"2013-05-13\", \"2013-05-14\", \"2013-05-15\", \"2013-05-16\", \"2013-05-17\", \"2013-05-20\", \"2013-05-21\", \"2013-05-22\", \"2013-05-23\", \"2013-05-24\", \"2013-05-27\", \"2013-05-28\", \"2013-05-29\", \"2013-05-30\", \"2013-05-31\", \"2013-06-03\", \"2013-06-04\", \"2013-06-05\", \"2013-06-06\", \"2013-06-07\", \"2013-06-10\", \"2013-06-11\", \"2013-06-13\", \"2013-06-14\", \"2013-06-17\", \"2013-06-18\", \"2013-06-19\", \"2013-06-20\", \"2013-06-21\", \"2013-06-24\", \"2013-06-25\", \"2013-06-26\", \"2013-06-27\", \"2013-06-28\", \"2013-07-01\", \"2013-07-02\", \"2013-07-03\", \"2013-07-04\", \"2013-07-05\", \"2013-07-08\", \"2013-07-09\", \"2013-07-10\", \"2013-07-11\", \"2013-07-12\", \"2013-07-15\", \"2013-07-16\", \"2013-07-17\", \"2013-07-18\", \"2013-07-19\", \"2013-07-22\", \"2013-07-23\", \"2013-07-24\", \"2013-07-25\", \"2013-07-26\", \"2013-07-29\", \"2013-07-30\", \"2013-07-31\", \"2013-08-01\", \"2013-08-02\", \"2013-08-05\", \"2013-08-06\", \"2013-08-07\", \"2013-08-08\", \"2013-08-09\", \"2013-08-12\", \"2013-08-13\", \"2013-08-14\", \"2013-08-15\", \"2013-08-16\", \"2013-08-19\", \"2013-08-20\", \"2013-08-21\", \"2013-08-22\", \"2013-08-23\", \"2013-08-26\"]}],\n",
       "                        {\"template\": {\"data\": {\"bar\": [{\"error_x\": {\"color\": \"#2a3f5f\"}, \"error_y\": {\"color\": \"#2a3f5f\"}, \"marker\": {\"line\": {\"color\": \"#E5ECF6\", \"width\": 0.5}}, \"type\": \"bar\"}], \"barpolar\": [{\"marker\": {\"line\": {\"color\": \"#E5ECF6\", \"width\": 0.5}}, \"type\": \"barpolar\"}], \"carpet\": [{\"aaxis\": {\"endlinecolor\": \"#2a3f5f\", \"gridcolor\": \"white\", \"linecolor\": \"white\", \"minorgridcolor\": \"white\", \"startlinecolor\": \"#2a3f5f\"}, \"baxis\": {\"endlinecolor\": \"#2a3f5f\", \"gridcolor\": \"white\", \"linecolor\": \"white\", \"minorgridcolor\": \"white\", \"startlinecolor\": \"#2a3f5f\"}, \"type\": \"carpet\"}], \"choropleth\": [{\"colorbar\": {\"outlinewidth\": 0, \"ticks\": \"\"}, \"type\": \"choropleth\"}], \"contour\": [{\"colorbar\": {\"outlinewidth\": 0, \"ticks\": \"\"}, \"colorscale\": [[0.0, \"#0d0887\"], [0.1111111111111111, \"#46039f\"], [0.2222222222222222, \"#7201a8\"], [0.3333333333333333, \"#9c179e\"], [0.4444444444444444, \"#bd3786\"], [0.5555555555555556, \"#d8576b\"], [0.6666666666666666, \"#ed7953\"], [0.7777777777777778, \"#fb9f3a\"], [0.8888888888888888, \"#fdca26\"], [1.0, \"#f0f921\"]], \"type\": \"contour\"}], \"contourcarpet\": [{\"colorbar\": {\"outlinewidth\": 0, \"ticks\": \"\"}, \"type\": \"contourcarpet\"}], \"heatmap\": [{\"colorbar\": {\"outlinewidth\": 0, \"ticks\": \"\"}, \"colorscale\": [[0.0, \"#0d0887\"], [0.1111111111111111, \"#46039f\"], [0.2222222222222222, \"#7201a8\"], [0.3333333333333333, \"#9c179e\"], [0.4444444444444444, \"#bd3786\"], [0.5555555555555556, \"#d8576b\"], [0.6666666666666666, \"#ed7953\"], [0.7777777777777778, \"#fb9f3a\"], [0.8888888888888888, \"#fdca26\"], [1.0, \"#f0f921\"]], \"type\": \"heatmap\"}], \"heatmapgl\": [{\"colorbar\": {\"outlinewidth\": 0, \"ticks\": \"\"}, \"colorscale\": [[0.0, \"#0d0887\"], [0.1111111111111111, \"#46039f\"], [0.2222222222222222, \"#7201a8\"], [0.3333333333333333, \"#9c179e\"], [0.4444444444444444, \"#bd3786\"], [0.5555555555555556, \"#d8576b\"], [0.6666666666666666, \"#ed7953\"], [0.7777777777777778, \"#fb9f3a\"], [0.8888888888888888, \"#fdca26\"], [1.0, \"#f0f921\"]], \"type\": \"heatmapgl\"}], \"histogram\": [{\"marker\": {\"colorbar\": {\"outlinewidth\": 0, \"ticks\": \"\"}}, \"type\": \"histogram\"}], \"histogram2d\": [{\"colorbar\": {\"outlinewidth\": 0, \"ticks\": \"\"}, \"colorscale\": [[0.0, \"#0d0887\"], [0.1111111111111111, \"#46039f\"], [0.2222222222222222, \"#7201a8\"], [0.3333333333333333, \"#9c179e\"], [0.4444444444444444, \"#bd3786\"], [0.5555555555555556, \"#d8576b\"], [0.6666666666666666, \"#ed7953\"], [0.7777777777777778, \"#fb9f3a\"], [0.8888888888888888, \"#fdca26\"], [1.0, \"#f0f921\"]], \"type\": \"histogram2d\"}], \"histogram2dcontour\": [{\"colorbar\": {\"outlinewidth\": 0, \"ticks\": \"\"}, \"colorscale\": [[0.0, \"#0d0887\"], [0.1111111111111111, \"#46039f\"], [0.2222222222222222, \"#7201a8\"], [0.3333333333333333, \"#9c179e\"], [0.4444444444444444, \"#bd3786\"], [0.5555555555555556, \"#d8576b\"], [0.6666666666666666, \"#ed7953\"], [0.7777777777777778, \"#fb9f3a\"], [0.8888888888888888, \"#fdca26\"], [1.0, \"#f0f921\"]], \"type\": \"histogram2dcontour\"}], \"mesh3d\": [{\"colorbar\": {\"outlinewidth\": 0, \"ticks\": \"\"}, \"type\": \"mesh3d\"}], \"parcoords\": [{\"line\": {\"colorbar\": {\"outlinewidth\": 0, \"ticks\": \"\"}}, \"type\": \"parcoords\"}], \"pie\": [{\"automargin\": true, \"type\": \"pie\"}], \"scatter\": [{\"marker\": {\"colorbar\": {\"outlinewidth\": 0, \"ticks\": \"\"}}, \"type\": \"scatter\"}], \"scatter3d\": [{\"line\": {\"colorbar\": {\"outlinewidth\": 0, \"ticks\": \"\"}}, \"marker\": {\"colorbar\": {\"outlinewidth\": 0, \"ticks\": \"\"}}, \"type\": \"scatter3d\"}], \"scattercarpet\": [{\"marker\": {\"colorbar\": {\"outlinewidth\": 0, \"ticks\": \"\"}}, \"type\": \"scattercarpet\"}], \"scattergeo\": [{\"marker\": {\"colorbar\": {\"outlinewidth\": 0, \"ticks\": \"\"}}, \"type\": \"scattergeo\"}], \"scattergl\": [{\"marker\": {\"colorbar\": {\"outlinewidth\": 0, \"ticks\": \"\"}}, \"type\": \"scattergl\"}], \"scattermapbox\": [{\"marker\": {\"colorbar\": {\"outlinewidth\": 0, \"ticks\": \"\"}}, \"type\": \"scattermapbox\"}], \"scatterpolar\": [{\"marker\": {\"colorbar\": {\"outlinewidth\": 0, \"ticks\": \"\"}}, \"type\": \"scatterpolar\"}], \"scatterpolargl\": [{\"marker\": {\"colorbar\": {\"outlinewidth\": 0, \"ticks\": \"\"}}, \"type\": \"scatterpolargl\"}], \"scatterternary\": [{\"marker\": {\"colorbar\": {\"outlinewidth\": 0, \"ticks\": \"\"}}, \"type\": \"scatterternary\"}], \"surface\": [{\"colorbar\": {\"outlinewidth\": 0, \"ticks\": \"\"}, \"colorscale\": [[0.0, \"#0d0887\"], [0.1111111111111111, \"#46039f\"], [0.2222222222222222, \"#7201a8\"], [0.3333333333333333, \"#9c179e\"], [0.4444444444444444, \"#bd3786\"], [0.5555555555555556, \"#d8576b\"], [0.6666666666666666, \"#ed7953\"], [0.7777777777777778, \"#fb9f3a\"], [0.8888888888888888, \"#fdca26\"], [1.0, \"#f0f921\"]], \"type\": \"surface\"}], \"table\": [{\"cells\": {\"fill\": {\"color\": \"#EBF0F8\"}, \"line\": {\"color\": \"white\"}}, \"header\": {\"fill\": {\"color\": \"#C8D4E3\"}, \"line\": {\"color\": \"white\"}}, \"type\": \"table\"}]}, \"layout\": {\"annotationdefaults\": {\"arrowcolor\": \"#2a3f5f\", \"arrowhead\": 0, \"arrowwidth\": 1}, \"coloraxis\": {\"colorbar\": {\"outlinewidth\": 0, \"ticks\": \"\"}}, \"colorscale\": {\"diverging\": [[0, \"#8e0152\"], [0.1, \"#c51b7d\"], [0.2, \"#de77ae\"], [0.3, \"#f1b6da\"], [0.4, \"#fde0ef\"], [0.5, \"#f7f7f7\"], [0.6, \"#e6f5d0\"], [0.7, \"#b8e186\"], [0.8, \"#7fbc41\"], [0.9, \"#4d9221\"], [1, \"#276419\"]], \"sequential\": [[0.0, \"#0d0887\"], [0.1111111111111111, \"#46039f\"], [0.2222222222222222, \"#7201a8\"], [0.3333333333333333, \"#9c179e\"], [0.4444444444444444, \"#bd3786\"], [0.5555555555555556, \"#d8576b\"], [0.6666666666666666, \"#ed7953\"], [0.7777777777777778, \"#fb9f3a\"], [0.8888888888888888, \"#fdca26\"], [1.0, \"#f0f921\"]], \"sequentialminus\": [[0.0, \"#0d0887\"], [0.1111111111111111, \"#46039f\"], [0.2222222222222222, \"#7201a8\"], [0.3333333333333333, \"#9c179e\"], [0.4444444444444444, \"#bd3786\"], [0.5555555555555556, \"#d8576b\"], [0.6666666666666666, \"#ed7953\"], [0.7777777777777778, \"#fb9f3a\"], [0.8888888888888888, \"#fdca26\"], [1.0, \"#f0f921\"]]}, \"colorway\": [\"#636efa\", \"#EF553B\", \"#00cc96\", \"#ab63fa\", \"#FFA15A\", \"#19d3f3\", \"#FF6692\", \"#B6E880\", \"#FF97FF\", \"#FECB52\"], \"font\": {\"color\": \"#2a3f5f\"}, \"geo\": {\"bgcolor\": \"white\", \"lakecolor\": \"white\", \"landcolor\": \"#E5ECF6\", \"showlakes\": true, \"showland\": true, \"subunitcolor\": \"white\"}, \"hoverlabel\": {\"align\": \"left\"}, \"hovermode\": \"closest\", \"mapbox\": {\"style\": \"light\"}, \"paper_bgcolor\": \"white\", \"plot_bgcolor\": \"#E5ECF6\", \"polar\": {\"angularaxis\": {\"gridcolor\": \"white\", \"linecolor\": \"white\", \"ticks\": \"\"}, \"bgcolor\": \"#E5ECF6\", \"radialaxis\": {\"gridcolor\": \"white\", \"linecolor\": \"white\", \"ticks\": \"\"}}, \"scene\": {\"xaxis\": {\"backgroundcolor\": \"#E5ECF6\", \"gridcolor\": \"white\", \"gridwidth\": 2, \"linecolor\": \"white\", \"showbackground\": true, \"ticks\": \"\", \"zerolinecolor\": \"white\"}, \"yaxis\": {\"backgroundcolor\": \"#E5ECF6\", \"gridcolor\": \"white\", \"gridwidth\": 2, \"linecolor\": \"white\", \"showbackground\": true, \"ticks\": \"\", \"zerolinecolor\": \"white\"}, \"zaxis\": {\"backgroundcolor\": \"#E5ECF6\", \"gridcolor\": \"white\", \"gridwidth\": 2, \"linecolor\": \"white\", \"showbackground\": true, \"ticks\": \"\", \"zerolinecolor\": \"white\"}}, \"shapedefaults\": {\"line\": {\"color\": \"#2a3f5f\"}}, \"ternary\": {\"aaxis\": {\"gridcolor\": \"white\", \"linecolor\": \"white\", \"ticks\": \"\"}, \"baxis\": {\"gridcolor\": \"white\", \"linecolor\": \"white\", \"ticks\": \"\"}, \"bgcolor\": \"#E5ECF6\", \"caxis\": {\"gridcolor\": \"white\", \"linecolor\": \"white\", \"ticks\": \"\"}}, \"title\": {\"x\": 0.05}, \"xaxis\": {\"automargin\": true, \"gridcolor\": \"white\", \"linecolor\": \"white\", \"ticks\": \"\", \"title\": {\"standoff\": 15}, \"zerolinecolor\": \"white\", \"zerolinewidth\": 2}, \"yaxis\": {\"automargin\": true, \"gridcolor\": \"white\", \"linecolor\": \"white\", \"ticks\": \"\", \"title\": {\"standoff\": 15}, \"zerolinecolor\": \"white\", \"zerolinewidth\": 2}}}, \"title\": {\"text\": \"Candlestick chart\"}, \"yaxis\": {\"title\": {\"text\": \"Price\"}}},\n",
       "                        {\"responsive\": true}\n",
       "                    ).then(function(){\n",
       "                            \n",
       "var gd = document.getElementById('df90954b-1efd-4ea5-89e7-6298e1c9f520');\n",
       "var x = new MutationObserver(function (mutations, observer) {{\n",
       "        var display = window.getComputedStyle(gd).display;\n",
       "        if (!display || display === 'none') {{\n",
       "            console.log([gd, 'removed!']);\n",
       "            Plotly.purge(gd);\n",
       "            observer.disconnect();\n",
       "        }}\n",
       "}});\n",
       "\n",
       "// Listen for the removal of the full notebook cells\n",
       "var notebookContainer = gd.closest('#notebook-container');\n",
       "if (notebookContainer) {{\n",
       "    x.observe(notebookContainer, {childList: true});\n",
       "}}\n",
       "\n",
       "// Listen for the clearing of the current output cell\n",
       "var outputEl = gd.closest('.output');\n",
       "if (outputEl) {{\n",
       "    x.observe(outputEl, {childList: true});\n",
       "}}\n",
       "\n",
       "                        })\n",
       "                };\n",
       "                });\n",
       "            </script>\n",
       "        </div>"
      ]
     },
     "metadata": {},
     "output_type": "display_data"
    }
   ],
   "source": [
    "plot_candle(data_2)"
   ]
  },
  {
   "cell_type": "code",
   "execution_count": 435,
   "metadata": {},
   "outputs": [
    {
     "data": {
      "image/png": "[encoded data removed]",
      "text/plain": [
       "<Figure size 504x360 with 1 Axes>"
      ]
     },
     "metadata": {
      "needs_background": "light"
     },
     "output_type": "display_data"
    }
   ],
   "source": [
    "get_plot_RSI(data_2, 14, 1)"
   ]
  }
 ],
 "metadata": {
  "kernelspec": {
   "display_name": "Python 3",
   "language": "python",
   "name": "python3"
  },
  "language_info": {
   "codemirror_mode": {
    "name": "ipython",
    "version": 3
   },
   "file_extension": ".py",
   "mimetype": "text/x-python",
   "name": "python",
   "nbconvert_exporter": "python",
   "pygments_lexer": "ipython3",
   "version": "3.7.3"
  }
 },
 "nbformat": 4,
 "nbformat_minor": 2
}
